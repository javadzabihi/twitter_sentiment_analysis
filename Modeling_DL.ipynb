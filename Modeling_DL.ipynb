{
 "cells": [
  {
   "cell_type": "code",
   "execution_count": 14,
   "metadata": {},
   "outputs": [],
   "source": [
    "import pandas as pd\n",
    "import numpy as np\n",
    "import seaborn as sns\n",
    "import matplotlib.pyplot as plt\n",
    "%matplotlib inline"
   ]
  },
  {
   "cell_type": "code",
   "execution_count": 2,
   "metadata": {},
   "outputs": [
    {
     "name": "stderr",
     "output_type": "stream",
     "text": [
      "/anaconda3/lib/python3.7/site-packages/numpy/lib/arraysetops.py:569: FutureWarning: elementwise comparison failed; returning scalar instead, but in the future will perform elementwise comparison\n",
      "  mask |= (ar1 == a)\n"
     ]
    },
    {
     "data": {
      "text/html": [
       "<div>\n",
       "<style scoped>\n",
       "    .dataframe tbody tr th:only-of-type {\n",
       "        vertical-align: middle;\n",
       "    }\n",
       "\n",
       "    .dataframe tbody tr th {\n",
       "        vertical-align: top;\n",
       "    }\n",
       "\n",
       "    .dataframe thead th {\n",
       "        text-align: right;\n",
       "    }\n",
       "</style>\n",
       "<table border=\"1\" class=\"dataframe\">\n",
       "  <thead>\n",
       "    <tr style=\"text-align: right;\">\n",
       "      <th></th>\n",
       "      <th>text</th>\n",
       "      <th>target</th>\n",
       "    </tr>\n",
       "  </thead>\n",
       "  <tbody>\n",
       "    <tr>\n",
       "      <th>0</th>\n",
       "      <td>awww that bummer you shoulda got david carr of...</td>\n",
       "      <td>0</td>\n",
       "    </tr>\n",
       "    <tr>\n",
       "      <th>1</th>\n",
       "      <td>is upset that he can not update his facebook b...</td>\n",
       "      <td>0</td>\n",
       "    </tr>\n",
       "    <tr>\n",
       "      <th>2</th>\n",
       "      <td>dived many times for the ball managed to save ...</td>\n",
       "      <td>0</td>\n",
       "    </tr>\n",
       "    <tr>\n",
       "      <th>3</th>\n",
       "      <td>my whole body feels itchy and like its on fire</td>\n",
       "      <td>0</td>\n",
       "    </tr>\n",
       "    <tr>\n",
       "      <th>4</th>\n",
       "      <td>no it not behaving at all mad why am here beca...</td>\n",
       "      <td>0</td>\n",
       "    </tr>\n",
       "  </tbody>\n",
       "</table>\n",
       "</div>"
      ],
      "text/plain": [
       "                                                text  target\n",
       "0  awww that bummer you shoulda got david carr of...       0\n",
       "1  is upset that he can not update his facebook b...       0\n",
       "2  dived many times for the ball managed to save ...       0\n",
       "3     my whole body feels itchy and like its on fire       0\n",
       "4  no it not behaving at all mad why am here beca...       0"
      ]
     },
     "execution_count": 2,
     "metadata": {},
     "output_type": "execute_result"
    }
   ],
   "source": [
    "# Load the clean dataset\n",
    "twitter_dataset = pd.read_csv('clean_tweeter_data.csv',index_col=0)\n",
    "twitter_dataset.head()\n"
   ]
  },
  {
   "cell_type": "code",
   "execution_count": 3,
   "metadata": {},
   "outputs": [
    {
     "name": "stdout",
     "output_type": "stream",
     "text": [
      "Minimum length of cleaned tweet: 2\n",
      "Maximum length of cleaned tweet: 141\n"
     ]
    }
   ],
   "source": [
    "# Calculate the length of tweets\n",
    "twitter_dataset['clean_len'] = [len(t) for t in twitter_dataset.text]\n",
    "print('Minimum length of cleaned tweet:', twitter_dataset.clean_len.min())\n",
    "print('Maximum length of cleaned tweet:', twitter_dataset.clean_len.max())\n",
    "\n",
    "\n"
   ]
  },
  {
   "cell_type": "code",
   "execution_count": 7,
   "metadata": {},
   "outputs": [
    {
     "data": {
      "text/plain": [
       "<Figure size 576x288 with 0 Axes>"
      ]
     },
     "metadata": {},
     "output_type": "display_data"
    },
    {
     "data": {
      "image/png": "[encoded data removed]",
      "text/plain": [
       "<Figure size 288x288 with 1 Axes>"
      ]
     },
     "metadata": {},
     "output_type": "display_data"
    }
   ],
   "source": [
    "# Create a boxplot of tweet length\n",
    "plt.figure(figsize=(8, 4))\n",
    "sns.set(font_scale=1)\n",
    "sns.set_style('whitegrid')\n",
    "fig, ax = plt.subplots(figsize=(4, 4))\n",
    "plt.boxplot(twitter_dataset.clean_len)\n",
    "plt.xlabel('Tweets')\n",
    "plt.ylabel('Length of Tweets')\n",
    "plt.tight_layout()\n",
    "plt.show()\n",
    "\n"
   ]
  },
  {
   "cell_type": "code",
   "execution_count": 9,
   "metadata": {},
   "outputs": [
    {
     "data": {
      "image/png": "[encoded data removed]",
      "text/plain": [
       "<Figure size 576x288 with 1 Axes>"
      ]
     },
     "metadata": {},
     "output_type": "display_data"
    }
   ],
   "source": [
    "plt.figure(figsize=(8, 4))\n",
    "sns.set(font_scale=1)\n",
    "sns.set_style('whitegrid')\n",
    "positive = twitter_dataset['clean_len'][twitter_dataset.target == 1]\n",
    "negative = twitter_dataset['clean_len'][twitter_dataset.target == 0]\n",
    "plt.xlim(0,140)\n",
    "plt.xlabel('Word count')\n",
    "plt.ylabel('Frequency')\n",
    "g = plt.hist([positive, negative], color=['r','b'], alpha=0.5, label=['positive','negative'])\n",
    "plt.legend(loc=0)\n",
    "plt.tight_layout()\n",
    "plt.show()\n",
    "\n"
   ]
  },
  {
   "cell_type": "code",
   "execution_count": 13,
   "metadata": {},
   "outputs": [
    {
     "name": "stdout",
     "output_type": "stream",
     "text": [
      "Number of positive tweets: 797844\n",
      "Number of negative tweets: 798197\n",
      "Total number of tweets:    1596041\n"
     ]
    }
   ],
   "source": [
    "print('Number of positive tweets: {}'.format(len(twitter_dataset['target'][twitter_dataset.target == 1])))\n",
    "print('Number of negative tweets: {}'.format(len(twitter_dataset['target'][twitter_dataset.target == 0])))\n",
    "print('Total number of tweets:    {}'.format(twitter_dataset.shape[0]))\n",
    "\n"
   ]
  },
  {
   "cell_type": "markdown",
   "metadata": {},
   "source": [
    "### Training, validation, and test split"
   ]
  },
  {
   "cell_type": "code",
   "execution_count": 5,
   "metadata": {},
   "outputs": [
    {
     "name": "stdout",
     "output_type": "stream",
     "text": [
      "Shape of data: (1596041,)\n",
      "Shape of label: (1596041,)\n"
     ]
    }
   ],
   "source": [
    "y = twitter_dataset['target']\n",
    "X = twitter_dataset['text']\n",
    "\n",
    "print('Shape of data:', X.shape)\n",
    "print('Shape of label:', y.shape)\n"
   ]
  },
  {
   "cell_type": "code",
   "execution_count": 6,
   "metadata": {},
   "outputs": [],
   "source": [
    "from sklearn.model_selection import train_test_split\n",
    "\n",
    "\n",
    "# Train, Validation, and Test set : 98%, 2%, 2% \n",
    "\n",
    "X_train, X, y_train, y = train_test_split(X, y, test_size = 0.02, random_state = 101)\n",
    "X_val, X_test, y_val, y_test = train_test_split(X, y, test_size = 0.5, random_state = 101)\n",
    "\n"
   ]
  },
  {
   "cell_type": "code",
   "execution_count": 5,
   "metadata": {},
   "outputs": [
    {
     "name": "stdout",
     "output_type": "stream",
     "text": [
      "Train set has 1564120 tweets with 49.98% positive and 50.02% negative sentiments\n",
      "Validation set has 15960 tweets with 50.27% positive and 49.73% negative sentiments\n",
      "Test set has 15961 tweets with 50.68% positive and 49.32% negative sentiments\n"
     ]
    }
   ],
   "source": [
    "print ('Train set has {0} tweets with {1:.2f}% positive and {2:.2f}% negative sentiments'.format(len(X_train),\n",
    "    (len(X_train[y_train == 1]) / (len(X_train)*1.))*100, \n",
    "    (len(X_train[y_train == 0]) / (len(X_train)*1.))*100))\n",
    "\n",
    "print('Validation set has {0} tweets with {1:.2f}% positive and {2:.2f}% negative sentiments'.format(len(X_val), \n",
    "    (len(X_val[y_val == 1]) / (len(X_val)*1.))*100,\n",
    "    (len(X_val[y_val == 0]) / (len(X_val)*1.))*100 ))\n",
    "\n",
    "print('Test set has {0} tweets with {1:.2f}% positive and {2:.2f}% negative sentiments'.format(len(X_test), \n",
    "    (len(X_test[y_test == 1]) / (len(X_test)*1.))*100,\n",
    "    (len(X_test[y_test == 0]) / (len(X_test)*1.))*100 ))\n",
    "\n"
   ]
  },
  {
   "cell_type": "markdown",
   "metadata": {},
   "source": [
    "### Tokenization"
   ]
  },
  {
   "cell_type": "code",
   "execution_count": 7,
   "metadata": {},
   "outputs": [],
   "source": [
    "\n",
    "from keras.preprocessing.text import Tokenizer\n",
    "from keras.preprocessing.sequence import pad_sequences\n",
    "\n",
    "# Number of words to consider as features\n",
    "max_features = 100000\n",
    "# Cuts off the text after this number of words\n",
    "maxlen = 60\n",
    "# Create a tokenizer, configured to only take into account the 100,000 most common words\n",
    "tokenizer = Tokenizer(num_words = max_features)\n",
    "# Build the word index\n",
    "tokenizer.fit_on_texts(twitter_dataset['text'].values)\n",
    "# Turn strings into lists of integer indices\n",
    "train_sequences = tokenizer.texts_to_sequences(X_train)\n",
    "# All sequences in abatch must have the same length\n",
    "# Sequences with length less than maxlen should be padded with zeros\n",
    "# Sequences with length longer than maxlen should be truncated\n",
    "X_train_sequences = pad_sequences(train_sequences, maxlen=maxlen)\n",
    "\n"
   ]
  },
  {
   "cell_type": "code",
   "execution_count": 9,
   "metadata": {},
   "outputs": [
    {
     "name": "stdout",
     "output_type": "stream",
     "text": [
      "Found 264939 unique tokens.\n"
     ]
    }
   ],
   "source": [
    "word_index = tokenizer.word_index\n",
    "print('Found %s unique tokens.' % len(word_index))\n"
   ]
  },
  {
   "cell_type": "code",
   "execution_count": 10,
   "metadata": {},
   "outputs": [
    {
     "name": "stdout",
     "output_type": "stream",
     "text": [
      "Shape of X_train_sequences: (1564120, 60)\n"
     ]
    }
   ],
   "source": [
    "print('Shape of X_train_sequences:', X_train_sequences.shape)\n",
    "\n"
   ]
  },
  {
   "cell_type": "code",
   "execution_count": 8,
   "metadata": {},
   "outputs": [],
   "source": [
    "\n",
    "# Validation set\n",
    "val_sequences = tokenizer.texts_to_sequences(X_val)\n",
    "X_val_sequences = pad_sequences(val_sequences, maxlen=maxlen)\n",
    "\n"
   ]
  },
  {
   "cell_type": "code",
   "execution_count": 12,
   "metadata": {},
   "outputs": [
    {
     "name": "stdout",
     "output_type": "stream",
     "text": [
      "Shape of X_val_sequences: (15960, 60)\n"
     ]
    }
   ],
   "source": [
    "print('Shape of X_val_sequences:', X_val_sequences.shape)\n",
    "\n"
   ]
  },
  {
   "cell_type": "markdown",
   "metadata": {},
   "source": [
    "### Word2Vec implementation\n",
    "\n"
   ]
  },
  {
   "cell_type": "code",
   "execution_count": 9,
   "metadata": {},
   "outputs": [
    {
     "name": "stderr",
     "output_type": "stream",
     "text": [
      "/anaconda3/lib/python3.7/site-packages/smart_open/ssh.py:34: UserWarning: paramiko missing, opening SSH/SCP/SFTP paths will be disabled.  `pip install paramiko` to suppress\n",
      "  warnings.warn('paramiko missing, opening SSH/SCP/SFTP paths will be disabled.  `pip install paramiko` to suppress')\n"
     ]
    }
   ],
   "source": [
    "from tqdm import tqdm\n",
    "# tqdm.pandas(desc=\"progress-bar\")\n",
    "import gensim\n",
    "from gensim.models.word2vec import Word2Vec\n",
    "from gensim.models.doc2vec import TaggedDocument\n",
    "import multiprocessing\n",
    "from sklearn import utils\n",
    "\n",
    "cores = multiprocessing.cpu_count()\n",
    "\n"
   ]
  },
  {
   "cell_type": "code",
   "execution_count": 11,
   "metadata": {},
   "outputs": [],
   "source": [
    "def labelize_tweets_ug(tweets,label):\n",
    "    result = []\n",
    "    prefix = label\n",
    "    for i, t in zip(tweets.index, tweets):\n",
    "        result.append(TaggedDocument(t.split(), [prefix + '_%s' % i]))\n",
    "    return result\n",
    "\n"
   ]
  },
  {
   "cell_type": "code",
   "execution_count": 12,
   "metadata": {},
   "outputs": [],
   "source": [
    "# Combine X_train, X_val, X_test\n",
    "all_x = pd.concat([X_train, X_val, X_test])\n",
    "all_x_w2v = labelize_tweets_ug(all_x, 'all')\n",
    "\n"
   ]
  },
  {
   "cell_type": "code",
   "execution_count": 33,
   "metadata": {},
   "outputs": [
    {
     "name": "stderr",
     "output_type": "stream",
     "text": [
      "100%|██████████| 1596041/1596041 [00:00<00:00, 2450877.83it/s]\n"
     ]
    }
   ],
   "source": [
    "\n",
    "from gensim.models import word2vec\n",
    "\n",
    "\n",
    "# CBOW\n",
    "\n",
    "model_ug_cbow = Word2Vec( workers = cores, # Number of parallel threads\n",
    "                          size = 100, # Word vector dimensionality\n",
    "                          min_count= 2, # Minimum word count\n",
    "                          window= 5, # Context window size\n",
    "                          alpha = 0.07, # The initial learning rate\n",
    "                          min_alpha = 0.07) # Learning rate will linearly drop to `min_alpha` as training progresses\n",
    "                  \n",
    "model_ug_cbow.build_vocab([x.words for x in tqdm(all_x_w2v)])\n",
    "\n"
   ]
  },
  {
   "cell_type": "code",
   "execution_count": 34,
   "metadata": {},
   "outputs": [
    {
     "name": "stderr",
     "output_type": "stream",
     "text": [
      "100%|██████████| 1596041/1596041 [00:00<00:00, 2581793.66it/s]\n",
      "100%|██████████| 1596041/1596041 [00:00<00:00, 2215942.05it/s]\n",
      "100%|██████████| 1596041/1596041 [00:00<00:00, 2285083.09it/s]\n",
      "100%|██████████| 1596041/1596041 [00:00<00:00, 2270642.56it/s]\n",
      "100%|██████████| 1596041/1596041 [00:00<00:00, 2302624.19it/s]\n",
      "100%|██████████| 1596041/1596041 [00:00<00:00, 2193080.31it/s]\n",
      "100%|██████████| 1596041/1596041 [00:00<00:00, 2330920.04it/s]\n",
      "100%|██████████| 1596041/1596041 [00:00<00:00, 2303947.64it/s]\n",
      "100%|██████████| 1596041/1596041 [00:00<00:00, 2159616.91it/s]\n",
      "100%|██████████| 1596041/1596041 [00:00<00:00, 2299627.88it/s]\n",
      "100%|██████████| 1596041/1596041 [00:00<00:00, 2289941.94it/s]\n",
      "100%|██████████| 1596041/1596041 [00:00<00:00, 2194501.63it/s]\n",
      "100%|██████████| 1596041/1596041 [00:00<00:00, 2292444.28it/s]\n",
      "100%|██████████| 1596041/1596041 [00:00<00:00, 2249214.59it/s]\n",
      "100%|██████████| 1596041/1596041 [00:00<00:00, 2331481.00it/s]\n",
      "100%|██████████| 1596041/1596041 [00:00<00:00, 1680708.26it/s]\n",
      "100%|██████████| 1596041/1596041 [00:00<00:00, 2230334.93it/s]\n",
      "100%|██████████| 1596041/1596041 [00:00<00:00, 2100850.11it/s]\n",
      "100%|██████████| 1596041/1596041 [00:00<00:00, 2288913.89it/s]\n",
      "100%|██████████| 1596041/1596041 [00:00<00:00, 2144991.75it/s]\n"
     ]
    }
   ],
   "source": [
    "# train model_ug_cbow\n",
    "for epoch in range(20):\n",
    "    model_ug_cbow.train(utils.shuffle([x.words for x in tqdm(all_x_w2v)]), total_examples=len(all_x_w2v), epochs=1)\n",
    "    model_ug_cbow.alpha -= 0.001\n",
    "    model_ug_cbow.min_alpha = model_ug_cbow.alpha\n"
   ]
  },
  {
   "cell_type": "code",
   "execution_count": 35,
   "metadata": {},
   "outputs": [
    {
     "name": "stderr",
     "output_type": "stream",
     "text": [
      "100%|██████████| 1596041/1596041 [00:00<00:00, 2233417.77it/s]\n"
     ]
    }
   ],
   "source": [
    "# skip-gram\n",
    "\n",
    "model_ug_sg = Word2Vec( workers = cores, # Number of parallel threads\n",
    "                          size = 100, # Word vector dimensionality\n",
    "                          min_count= 2, # Minimum word count\n",
    "                          window= 5, # Context window size\n",
    "                          alpha = 0.07, # The initial learning rate\n",
    "                          min_alpha = 0.07, # Learning rate will linearly drop to `min_alpha` as training progresses\n",
    "                          sg = 1) # skip-gram\n",
    "model_ug_sg.build_vocab([x.words for x in tqdm(all_x_w2v)])\n",
    "\n"
   ]
  },
  {
   "cell_type": "code",
   "execution_count": 36,
   "metadata": {},
   "outputs": [
    {
     "name": "stderr",
     "output_type": "stream",
     "text": [
      "100%|██████████| 1596041/1596041 [00:00<00:00, 2610802.81it/s]\n",
      "100%|██████████| 1596041/1596041 [00:00<00:00, 2218192.57it/s]\n",
      "100%|██████████| 1596041/1596041 [00:00<00:00, 2180691.09it/s]\n",
      "100%|██████████| 1596041/1596041 [00:00<00:00, 2243754.99it/s]\n",
      "100%|██████████| 1596041/1596041 [00:00<00:00, 2194323.24it/s]\n",
      "100%|██████████| 1596041/1596041 [00:00<00:00, 2214195.44it/s]\n",
      "100%|██████████| 1596041/1596041 [00:00<00:00, 1816254.32it/s]\n",
      "100%|██████████| 1596041/1596041 [00:00<00:00, 1885806.49it/s]\n",
      "100%|██████████| 1596041/1596041 [00:00<00:00, 1997533.22it/s]\n",
      "100%|██████████| 1596041/1596041 [00:00<00:00, 2035097.16it/s]\n",
      "100%|██████████| 1596041/1596041 [00:00<00:00, 1768880.21it/s]\n",
      "100%|██████████| 1596041/1596041 [00:00<00:00, 1943947.08it/s]\n",
      "100%|██████████| 1596041/1596041 [00:00<00:00, 1971966.83it/s]\n",
      "100%|██████████| 1596041/1596041 [00:00<00:00, 2014384.51it/s]\n",
      "100%|██████████| 1596041/1596041 [00:00<00:00, 1758664.59it/s]\n",
      "100%|██████████| 1596041/1596041 [00:00<00:00, 2076740.35it/s]\n",
      "100%|██████████| 1596041/1596041 [00:00<00:00, 1936675.39it/s]\n",
      "100%|██████████| 1596041/1596041 [00:00<00:00, 2102252.73it/s]\n",
      "100%|██████████| 1596041/1596041 [00:00<00:00, 2111508.83it/s]\n",
      "100%|██████████| 1596041/1596041 [00:00<00:00, 2101743.19it/s]\n"
     ]
    }
   ],
   "source": [
    "# # train model_ug_sg\n",
    "for epoch in range(20):\n",
    "    model_ug_sg.train(utils.shuffle([x.words for x in tqdm(all_x_w2v)]), total_examples=len(all_x_w2v), epochs=1)\n",
    "    model_ug_sg.alpha -= 0.001\n",
    "    model_ug_sg.min_alpha = model_ug_sg.alpha\n",
    "    "
   ]
  },
  {
   "cell_type": "code",
   "execution_count": 37,
   "metadata": {},
   "outputs": [],
   "source": [
    "# Save models\n",
    "model_ug_cbow.save('w2v_model_ug_cbow.word2vec')\n",
    "model_ug_sg.save('w2v_model_ug_sg.word2vec')\n",
    "\n"
   ]
  },
  {
   "cell_type": "code",
   "execution_count": 15,
   "metadata": {},
   "outputs": [
    {
     "name": "stderr",
     "output_type": "stream",
     "text": [
      "/anaconda3/lib/python3.7/site-packages/smart_open/ssh.py:34: UserWarning: paramiko missing, opening SSH/SCP/SFTP paths will be disabled.  `pip install paramiko` to suppress\n",
      "  warnings.warn('paramiko missing, opening SSH/SCP/SFTP paths will be disabled.  `pip install paramiko` to suppress')\n"
     ]
    }
   ],
   "source": [
    "from gensim.models import KeyedVectors\n",
    "model_ug_cbow = KeyedVectors.load('w2v_model_ug_cbow.word2vec')\n",
    "model_ug_sg = KeyedVectors.load('w2v_model_ug_sg.word2vec')\n",
    "\n"
   ]
  },
  {
   "cell_type": "code",
   "execution_count": 39,
   "metadata": {},
   "outputs": [
    {
     "data": {
      "text/plain": [
       "106259"
      ]
     },
     "execution_count": 39,
     "metadata": {},
     "output_type": "execute_result"
    }
   ],
   "source": [
    "len(model_ug_cbow.wv.vocab.keys())\n",
    "\n"
   ]
  },
  {
   "cell_type": "code",
   "execution_count": 40,
   "metadata": {},
   "outputs": [
    {
     "name": "stdout",
     "output_type": "stream",
     "text": [
      "Word2Vec(vocab=106259, size=100, alpha=0.04999999999999999)\n"
     ]
    }
   ],
   "source": [
    "# summarize the loaded model\n",
    "print(model_ug_cbow)\n"
   ]
  },
  {
   "cell_type": "code",
   "execution_count": 41,
   "metadata": {},
   "outputs": [
    {
     "data": {
      "text/plain": [
       "[('horrid', 0.7177104949951172),\n",
       " ('terrible', 0.7017079591751099),\n",
       " ('horrible', 0.6580729484558105),\n",
       " ('unfortunate', 0.5949237942695618),\n",
       " ('horrific', 0.5796113610267639),\n",
       " ('crappy', 0.5668225288391113),\n",
       " ('awfull', 0.5627615451812744),\n",
       " ('rubbish', 0.560499906539917),\n",
       " ('incredible', 0.554601788520813),\n",
       " ('disgusting', 0.5360323190689087)]"
      ]
     },
     "execution_count": 41,
     "metadata": {},
     "output_type": "execute_result"
    }
   ],
   "source": [
    "# This will print the most similar words present in the model\n",
    "model_ug_cbow.wv.most_similar(\"awful\")\n"
   ]
  },
  {
   "cell_type": "code",
   "execution_count": 42,
   "metadata": {},
   "outputs": [
    {
     "data": {
      "text/plain": [
       "0.7017079564125605"
      ]
     },
     "execution_count": 42,
     "metadata": {},
     "output_type": "execute_result"
    }
   ],
   "source": [
    "# compute similarity between two words\n",
    "model_ug_cbow.wv.similarity(w1 = \"awful\", w2 = \"terrible\")\n"
   ]
  },
  {
   "cell_type": "code",
   "execution_count": 43,
   "metadata": {},
   "outputs": [
    {
     "data": {
      "text/plain": [
       "'kitchen'"
      ]
     },
     "execution_count": 43,
     "metadata": {},
     "output_type": "execute_result"
    }
   ],
   "source": [
    "# This will print the odd word among them \n",
    "model_ug_cbow.wv.doesnt_match(\"man woman girl boy kitchen\".split())\n"
   ]
  },
  {
   "cell_type": "code",
   "execution_count": 44,
   "metadata": {},
   "outputs": [
    {
     "name": "stderr",
     "output_type": "stream",
     "text": [
      "/Applications/anaconda3/lib/python3.6/site-packages/ipykernel_launcher.py:2: DeprecationWarning: Call to deprecated `syn0` (Attribute will be removed in 4.0.0, use self.wv.vectors instead).\n",
      "  \n"
     ]
    },
    {
     "data": {
      "text/plain": [
       "(106259, 100)"
      ]
     },
     "execution_count": 44,
     "metadata": {},
     "output_type": "execute_result"
    }
   ],
   "source": [
    "# This will give the total number of words in the vocabolary created from this dataset\n",
    "model_ug_cbow.wv.syn0.shape\n"
   ]
  },
  {
   "cell_type": "code",
   "execution_count": 45,
   "metadata": {},
   "outputs": [
    {
     "data": {
      "text/plain": [
       "106259"
      ]
     },
     "execution_count": 45,
     "metadata": {},
     "output_type": "execute_result"
    }
   ],
   "source": [
    "len(model_ug_sg.wv.vocab.keys())\n"
   ]
  },
  {
   "cell_type": "code",
   "execution_count": 22,
   "metadata": {},
   "outputs": [
    {
     "data": {
      "text/plain": [
       "0.28302139629319223"
      ]
     },
     "execution_count": 22,
     "metadata": {},
     "output_type": "execute_result"
    }
   ],
   "source": [
    "model_ug_sg.wv.similarity(w1 = \"great\", w2 = \"awful\")"
   ]
  },
  {
   "cell_type": "code",
   "execution_count": 46,
   "metadata": {},
   "outputs": [
    {
     "name": "stdout",
     "output_type": "stream",
     "text": [
      "Word2Vec(vocab=106259, size=100, alpha=0.04999999999999999)\n"
     ]
    }
   ],
   "source": [
    "# summarize the loaded model\n",
    "print(model_ug_sg)\n"
   ]
  },
  {
   "cell_type": "code",
   "execution_count": 23,
   "metadata": {},
   "outputs": [
    {
     "name": "stderr",
     "output_type": "stream",
     "text": [
      "/anaconda3/lib/python3.7/site-packages/ipykernel_launcher.py:3: DeprecationWarning: Call to deprecated `__getitem__` (Method will be removed in 4.0.0, use self.wv.__getitem__() instead).\n",
      "  This is separate from the ipykernel package so we can avoid doing imports until\n"
     ]
    }
   ],
   "source": [
    "# Visualize Word Embedding\n",
    "# retrieve all of the vectors from the trained model\n",
    "X_vec_cbow = model_ug_cbow[model_ug_cbow.wv.vocab]\n",
    "\n"
   ]
  },
  {
   "cell_type": "code",
   "execution_count": 24,
   "metadata": {},
   "outputs": [],
   "source": [
    "# create a 2-dimensional PCA model of the word vectors\n",
    "from sklearn.decomposition import PCA\n",
    "pca_cbow = PCA(n_components=2)\n",
    "result_cbow = pca_cbow.fit_transform(X_vec_cbow[:20])\n",
    "\n"
   ]
  },
  {
   "cell_type": "code",
   "execution_count": 32,
   "metadata": {},
   "outputs": [
    {
     "data": {
      "text/plain": [
       "[('horrible', 0.6861467957496643),\n",
       " ('aweful', 0.6575475335121155),\n",
       " ('terrible', 0.6431080102920532),\n",
       " ('horrid', 0.6016123294830322),\n",
       " ('odd', 0.5759574174880981),\n",
       " ('unfortunate', 0.5712158679962158),\n",
       " ('unpleasant', 0.5689526796340942),\n",
       " ('unreal', 0.5518292188644409),\n",
       " ('disgusting', 0.5493462085723877),\n",
       " ('intense', 0.5428169965744019)]"
      ]
     },
     "execution_count": 32,
     "metadata": {},
     "output_type": "execute_result"
    }
   ],
   "source": [
    "model_ug_cbow.wv.most_similar(\"awful\")"
   ]
  },
  {
   "cell_type": "code",
   "execution_count": 31,
   "metadata": {},
   "outputs": [
    {
     "data": {
      "text/plain": [
       "[('fantastic', 0.6799850463867188),\n",
       " ('wonderful', 0.6780930757522583),\n",
       " ('fabulous', 0.6727688312530518),\n",
       " ('fab', 0.6368978023529053),\n",
       " ('nice', 0.5952551364898682),\n",
       " ('fantabulous', 0.5830315351486206),\n",
       " ('superb', 0.5693763494491577),\n",
       " ('amazing', 0.5689162611961365),\n",
       " ('good', 0.5605049729347229),\n",
       " ('agreat', 0.5584819316864014)]"
      ]
     },
     "execution_count": 31,
     "metadata": {},
     "output_type": "execute_result"
    }
   ],
   "source": [
    "model_ug_cbow.wv.most_similar(\"great\")"
   ]
  },
  {
   "cell_type": "code",
   "execution_count": 30,
   "metadata": {},
   "outputs": [
    {
     "data": {
      "text/plain": [
       "['did', 'until', 'last', 'week', 'will', 'put', 'my', 'late', 'great', 'kitty']"
      ]
     },
     "execution_count": 30,
     "metadata": {},
     "output_type": "execute_result"
    }
   ],
   "source": [
    "list(model_ug_cbow.wv.vocab)[:10]"
   ]
  },
  {
   "cell_type": "code",
   "execution_count": 36,
   "metadata": {},
   "outputs": [
    {
     "data": {
      "image/png": "[encoded data removed]",
      "text/plain": [
       "<Figure size 576x288 with 1 Axes>"
      ]
     },
     "metadata": {},
     "output_type": "display_data"
    }
   ],
   "source": [
    "plt.figure(figsize=(8, 4))\n",
    "sns.set(font_scale=1.2)\n",
    "sns.set_style('whitegrid')\n",
    "# Plot the resulting projection\n",
    "plt.scatter(result_cbow[:, 0], result_cbow[:, 1])\n",
    "\n",
    "# annotate the points on the graph with the words themselves\n",
    "words_cbow = list(model_ug_cbow.wv.vocab)\n",
    "#words_list = ['awful','horrible','terrible','horrid','odd','unfortunate','unpleasant',\n",
    "#              'unreal','disgusting',\"great\",'fantastic','wonderful','fabulous','fab',\n",
    "#               'nice','fantabulous','superb','amazing','good']\n",
    "for i, word in enumerate(words_cbow[:20]):\n",
    "    plt.annotate(word, xy=(result_cbow[i, 0], result_cbow[i, 1]))\n",
    "plt.xlabel('First component')\n",
    "plt.ylabel('Second component')\n",
    "plt.tight_layout()\n",
    "plt.show()\n"
   ]
  },
  {
   "cell_type": "code",
   "execution_count": null,
   "metadata": {},
   "outputs": [],
   "source": []
  },
  {
   "cell_type": "code",
   "execution_count": null,
   "metadata": {},
   "outputs": [],
   "source": []
  },
  {
   "cell_type": "code",
   "execution_count": 11,
   "metadata": {},
   "outputs": [
    {
     "name": "stdout",
     "output_type": "stream",
     "text": [
      "Found 106259 word vectors.\n"
     ]
    }
   ],
   "source": [
    "# Create a dictionary to extract word vectors from\n",
    "# concatenate vectors of the two models\n",
    "# Then each word will have 400 dimension\n",
    "embeddings_index = {}\n",
    "for w in model_ug_cbow.wv.vocab.keys():\n",
    "    embeddings_index[w] = np.append(model_ug_cbow.wv[w], model_ug_sg.wv[w])\n",
    "print('Found %s word vectors.' % len(embeddings_index))\n",
    "\n"
   ]
  },
  {
   "cell_type": "code",
   "execution_count": 12,
   "metadata": {},
   "outputs": [],
   "source": [
    "# create a matrix of word vectors\n",
    "embedding_matrix = np.zeros((max_features, 200))\n",
    "for word, i in tokenizer.word_index.items():\n",
    "    if i >= max_features:\n",
    "        continue\n",
    "    embedding_vector = embeddings_index.get(word)\n",
    "    if embedding_vector is not None:\n",
    "        embedding_matrix[i] = embedding_vector\n",
    "        \n",
    "        \n",
    "        "
   ]
  },
  {
   "cell_type": "markdown",
   "metadata": {},
   "source": [
    "### Modeling\n",
    "\n"
   ]
  },
  {
   "cell_type": "code",
   "execution_count": 11,
   "metadata": {},
   "outputs": [],
   "source": [
    "from keras.callbacks import EarlyStopping, ModelCheckpoint, ReduceLROnPlateau, TensorBoard\n",
    "\n",
    "# EarlyStopping: \n",
    "# Interrupts training when improvement stops\n",
    "# Monitors the model’s validation accuracy\n",
    "# Interrupts training when accuracy has stopped improving \n",
    "# for more than two epoch (that is, three epochs)\n",
    "# EarlyStopping(monitor='acc', patience=2)\n",
    "\n",
    "# ModelCheckpoint:\n",
    "# Saves the current weights after every epoch\n",
    "# you won’t overwrite the model file unless val_loss has improved, \n",
    "# which allows you to keep the best model seen during training.\n",
    "\n",
    "# ReduceLROnPlateau:\n",
    "# Reduce learning rate when the validation loss stopped improving\n",
    "# Divides the learning rate by 10 when triggered\n",
    "# The callback is triggered after the validation loss has stopped improving for 3 epochs.\n",
    "\n",
    "# TensorBoard: \n",
    "# Visually monitor metrics, histograms of activations and gradients during training\n",
    "# Records activation histograms every 1 epoch\n",
    "# Records embedding data every 1 epoch\n",
    "# TensorBoard(histogram_freq=1, embeddings_freq=1)\n",
    "\n",
    "def callbacks_list (model_suffix):\n",
    "    \n",
    "    \n",
    "    callbacks_list = [ModelCheckpoint(filepath='model_%s.h5'% model_suffix, \n",
    "                                      monitor='val_loss', \n",
    "                                      save_best_only=True), \n",
    "                      ReduceLROnPlateau(monitor='val_loss', \n",
    "                                       factor = 0.1,\n",
    "                                       patience = 3)]\n",
    "                      \n",
    "    \n",
    "    return callbacks_list\n",
    "\n"
   ]
  },
  {
   "cell_type": "code",
   "execution_count": 12,
   "metadata": {},
   "outputs": [
    {
     "name": "stdout",
     "output_type": "stream",
     "text": [
      "WARNING:tensorflow:From /anaconda3/lib/python3.7/site-packages/tensorflow/python/framework/op_def_library.py:263: colocate_with (from tensorflow.python.framework.ops) is deprecated and will be removed in a future version.\n",
      "Instructions for updating:\n",
      "Colocations handled automatically by placer.\n"
     ]
    }
   ],
   "source": [
    "from keras.optimizers import adam\n",
    "# compile the model\n",
    "def compile_model (model, optimizer=adam(lr=0.001), \n",
    "                   loss='binary_crossentropy', metrics=['acc']):\n",
    "    \n",
    "    return model.compile(optimizer=optimizer, \n",
    "                         loss=loss, \n",
    "                         metrics=metrics)\n",
    "    "
   ]
  },
  {
   "cell_type": "code",
   "execution_count": 13,
   "metadata": {},
   "outputs": [],
   "source": [
    "# fit on the training set\n",
    "def fit_model (model , callbacks, X_train = X_train_sequences, y_train = y_train,\n",
    "               epochs=6, batch_size=256, \n",
    "               validation_data = (X_val_sequences, y_val)):\n",
    "    \n",
    "    history = model.fit(X_train, y_train, \n",
    "                        epochs=epochs, \n",
    "                        batch_size=batch_size,  \n",
    "                        validation_data=validation_data,\n",
    "                        callbacks=callbacks)\n",
    "                        \n",
    "    \n",
    "    return history\n"
   ]
  },
  {
   "cell_type": "code",
   "execution_count": 14,
   "metadata": {},
   "outputs": [],
   "source": [
    "def performance_plot (history, model_name):\n",
    "    \n",
    "    acc = history.history['acc']\n",
    "    val_acc = history.history['val_acc']\n",
    "    loss = history.history['loss']\n",
    "    val_loss = history.history['val_loss']\n",
    "    epochs = range(1, len(acc) + 1)\n",
    "    \n",
    "    plt.figure(figsize=(10,5))\n",
    "    sns.set(font_scale=1.2)   \n",
    "    sns.set_style('darkgrid')\n",
    "\n",
    "    plt.subplot(1,2,1)   \n",
    "    plt.plot(epochs, acc, '-', label='Training acc')\n",
    "    plt.plot(epochs, val_acc, '--', label='Validation acc')\n",
    "    plt.xlabel('Epoch')\n",
    "    plt.ylabel('Accuracy')\n",
    "    plt.title('Training and validation accuracy')\n",
    "    plt.legend(loc=0)\n",
    "\n",
    "\n",
    "    plt.subplot(1,2,2)\n",
    "    plt.plot(epochs, loss, '-', label='Training loss')\n",
    "    plt.plot(epochs, val_loss, '--', label='Validation loss')\n",
    "    plt.xlabel('Epoch')\n",
    "    plt.ylabel('Loss')\n",
    "    plt.title('Training and validation loss')\n",
    "    plt.legend(loc=0)\n",
    "    \n",
    "    plt.tight_layout()\n",
    "    plt.savefig('%s.png'% model_name)\n",
    "    plt.show()\n",
    "    \n",
    "    "
   ]
  },
  {
   "cell_type": "code",
   "execution_count": 21,
   "metadata": {},
   "outputs": [],
   "source": [
    "#import tensorflow as tf\n",
    "# This prevents that resource exhausted error assuming you're batch size is within reason.\n",
    "#config = tf.ConfigProto()\n",
    "#config.gpu_options.allow_growth = True\n",
    "#Now when creating your session pass this config to it.\n",
    "#sess = tf.Session(config=config)"
   ]
  },
  {
   "cell_type": "markdown",
   "metadata": {},
   "source": [
    "I want to try three different approaches for the embedding layer to understand which one achieves the highest accuracy for the validation set. In the first approach, I use the pre-trained word2vec representation I already created with the help of gensim library in the embedding layer when freeaing the weights for this layer to not update the weights. For the second approach, I will use keras embedding layer to build a numerical representation of tweets from scratch. Finally, in the third approach, I will use the pre-trained word2vec representation again but this time allow the network to update the weights. I will implement the three mentioned approaches in a feed-forward neural net and after picking the best approach I will just use it for the LSTM and CNN architectures.\n",
    "\n"
   ]
  },
  {
   "cell_type": "markdown",
   "metadata": {},
   "source": [
    "### Feed-Forward ( fixed pre-trained word2vec)"
   ]
  },
  {
   "cell_type": "code",
   "execution_count": 13,
   "metadata": {},
   "outputs": [],
   "source": [
    "from keras.models import Sequential\n",
    "from keras.layers import Dense, Embedding, Flatten, Dropout\n",
    "from keras.models import load_model\n",
    "\n",
    "# embed_dim : Embedding dimensionality\n",
    "\n",
    "\n",
    "# Model 1: \n",
    "# A simple Neural Net (Embedding + Flatten + Dropout + Dense)\n",
    "# Use pre-trained word embedding. Set the weights attribute equal to our embedding_matrix.\n",
    "# we do not want to update the learned word weights in this model, \n",
    "# therefore we will set the trainable attribute for the model to be False.\n",
    "\n",
    "def model_1 (max_features = 100000, embed_dim = 200 , dropout = 0.5, \n",
    "             embedding_matrix = embedding_matrix, output_dense_dim = 256):\n",
    "\n",
    "    model = Sequential()\n",
    "    model.add(Embedding(max_features, embed_dim, weights=[embedding_matrix], \n",
    "                          input_length = maxlen, trainable=False))\n",
    "    # Flattens the 3D tensor of embeddings into a \n",
    "    # 2D tensor of shape (samples, maxlen * embed_dim)\n",
    "    model.add(Flatten())\n",
    "    # First dense layer\n",
    "    model.add(Dense(output_dense_dim, activation='relu'))\n",
    "    # dropout\n",
    "    model.add(Dropout(dropout))\n",
    "    # Adds the classifier on top\n",
    "    model.add(Dense(1, activation='sigmoid'))\n",
    "    \n",
    "    print(model.summary())\n",
    "    \n",
    "    return model\n",
    "\n"
   ]
  },
  {
   "cell_type": "code",
   "execution_count": 56,
   "metadata": {},
   "outputs": [
    {
     "name": "stdout",
     "output_type": "stream",
     "text": [
      "_________________________________________________________________\n",
      "Layer (type)                 Output Shape              Param #   \n",
      "=================================================================\n",
      "embedding_2 (Embedding)      (None, 60, 200)           20000000  \n",
      "_________________________________________________________________\n",
      "flatten_2 (Flatten)          (None, 12000)             0         \n",
      "_________________________________________________________________\n",
      "dense_3 (Dense)              (None, 256)               3072256   \n",
      "_________________________________________________________________\n",
      "dropout_2 (Dropout)          (None, 256)               0         \n",
      "_________________________________________________________________\n",
      "dense_4 (Dense)              (None, 1)                 257       \n",
      "=================================================================\n",
      "Total params: 23,072,513\n",
      "Trainable params: 3,072,513\n",
      "Non-trainable params: 20,000,000\n",
      "_________________________________________________________________\n"
     ]
    }
   ],
   "source": [
    "# Using pre-trained word2vec\n",
    "model_1_w2v = model_1(embedding_matrix = embedding_matrix, output_dense_dim = 256)\n",
    "\n"
   ]
  },
  {
   "cell_type": "code",
   "execution_count": 57,
   "metadata": {},
   "outputs": [
    {
     "name": "stdout",
     "output_type": "stream",
     "text": [
      "Train on 1564120 samples, validate on 15960 samples\n",
      "Epoch 1/6\n",
      "1564120/1564120 [==============================] - 1132s 724us/step - loss: 0.4770 - acc: 0.7702 - val_loss: 0.4444 - val_acc: 0.7919\n",
      "Epoch 2/6\n",
      "1564120/1564120 [==============================] - 884s 565us/step - loss: 0.4493 - acc: 0.7887 - val_loss: 0.4371 - val_acc: 0.7958\n",
      "Epoch 3/6\n",
      "1564120/1564120 [==============================] - 862s 551us/step - loss: 0.4326 - acc: 0.7991 - val_loss: 0.4330 - val_acc: 0.8002\n",
      "Epoch 4/6\n",
      "1564120/1564120 [==============================] - 845s 540us/step - loss: 0.4189 - acc: 0.8068 - val_loss: 0.4308 - val_acc: 0.7999\n",
      "Epoch 5/6\n",
      "1564120/1564120 [==============================] - 876s 560us/step - loss: 0.4070 - acc: 0.8140 - val_loss: 0.4323 - val_acc: 0.7998\n",
      "Epoch 6/6\n",
      "1564120/1564120 [==============================] - 970s 620us/step - loss: 0.3959 - acc: 0.8203 - val_loss: 0.4344 - val_acc: 0.7974\n"
     ]
    }
   ],
   "source": [
    "\n",
    "# compile the model\n",
    "compile_model(model_1_w2v)\n",
    "\n",
    "# fit on the training set\n",
    "history_1_w2v = fit_model(model_1_w2v, callbacks_list('1_w2v'), batch_size=256)\n"
   ]
  },
  {
   "cell_type": "code",
   "execution_count": 65,
   "metadata": {},
   "outputs": [
    {
     "name": "stdout",
     "output_type": "stream",
     "text": [
      "15960/15960 [==============================] - 2s 137us/step\n",
      "Feed-Forward ( fixed pre-trained word2vec)\n",
      "Accuracy: 79.993734\n"
     ]
    }
   ],
   "source": [
    "# Load the best model\n",
    "from keras.models import load_model\n",
    "best_model_1_w2v = load_model('model_1_w2v.h5')\n",
    "Loss, Accuracy = best_model_1_w2v.evaluate(x=X_val_sequences, y=y_val)\n",
    "print('Feed-Forward (fixed pre-trained word2vec)')\n",
    "print('Accuracy: %f' % (Accuracy*100))\n"
   ]
  },
  {
   "cell_type": "code",
   "execution_count": 108,
   "metadata": {},
   "outputs": [
    {
     "data": {
      "image/png": "[encoded data removed]",
      "text/plain": [
       "<Figure size 720x360 with 2 Axes>"
      ]
     },
     "metadata": {},
     "output_type": "display_data"
    }
   ],
   "source": [
    "performance_plot (history_1_w2v)\n",
    "\n"
   ]
  },
  {
   "cell_type": "markdown",
   "metadata": {},
   "source": [
    "### Feed-Forward ( learn an Embedding from scratch)"
   ]
  },
  {
   "cell_type": "code",
   "execution_count": 16,
   "metadata": {},
   "outputs": [],
   "source": [
    "\n",
    "\n",
    "# Model 2: \n",
    "# A simple Neural Net (Embedding + Flatten + Dropout + Dense)\n",
    "# Learn Embedding from scratch\n",
    "\n",
    "\n",
    "def model_2 (max_features = 100000, embed_dim = 200 , dropout = 0.5, output_dense_dim = 256):\n",
    "\n",
    "    model = Sequential()\n",
    "    model.add(Embedding(max_features, embed_dim, input_length = maxlen))\n",
    "    # Flattens the 3D tensor of embeddings into a \n",
    "    # 2D tensor of shape (samples, maxlen * embed_dim)\n",
    "    model.add(Flatten())\n",
    "    # First dense layer\n",
    "    model.add(Dense(output_dense_dim, activation='relu'))\n",
    "    # dropout\n",
    "    model.add(Dropout(dropout))\n",
    "    # Adds the classifier on top\n",
    "    model.add(Dense(1, activation='sigmoid'))\n",
    "    \n",
    "    print(model.summary())\n",
    "    \n",
    "    return model\n",
    "\n",
    "\n"
   ]
  },
  {
   "cell_type": "code",
   "execution_count": 67,
   "metadata": {},
   "outputs": [
    {
     "name": "stdout",
     "output_type": "stream",
     "text": [
      "_________________________________________________________________\n",
      "Layer (type)                 Output Shape              Param #   \n",
      "=================================================================\n",
      "embedding_3 (Embedding)      (None, 60, 200)           20000000  \n",
      "_________________________________________________________________\n",
      "flatten_3 (Flatten)          (None, 12000)             0         \n",
      "_________________________________________________________________\n",
      "dense_5 (Dense)              (None, 256)               3072256   \n",
      "_________________________________________________________________\n",
      "dropout_3 (Dropout)          (None, 256)               0         \n",
      "_________________________________________________________________\n",
      "dense_6 (Dense)              (None, 1)                 257       \n",
      "=================================================================\n",
      "Total params: 23,072,513\n",
      "Trainable params: 23,072,513\n",
      "Non-trainable params: 0\n",
      "_________________________________________________________________\n"
     ]
    }
   ],
   "source": [
    "# Learn Embedding from scratch\n",
    "model_2_le = model_2(output_dense_dim = 256)\n",
    "\n"
   ]
  },
  {
   "cell_type": "code",
   "execution_count": 68,
   "metadata": {},
   "outputs": [
    {
     "name": "stdout",
     "output_type": "stream",
     "text": [
      "Train on 1564120 samples, validate on 15960 samples\n",
      "Epoch 1/6\n",
      "1564120/1564120 [==============================] - 4693s 3ms/step - loss: 0.4342 - acc: 0.8010 - val_loss: 0.4021 - val_acc: 0.8185\n",
      "Epoch 2/6\n",
      "1564120/1564120 [==============================] - 4528s 3ms/step - loss: 0.3777 - acc: 0.8312 - val_loss: 0.4051 - val_acc: 0.8157\n",
      "Epoch 3/6\n",
      "1564120/1564120 [==============================] - 4824s 3ms/step - loss: 0.3272 - acc: 0.8559 - val_loss: 0.4313 - val_acc: 0.8130\n",
      "Epoch 4/6\n",
      "1564120/1564120 [==============================] - 4427s 3ms/step - loss: 0.2796 - acc: 0.8780 - val_loss: 0.4970 - val_acc: 0.8064\n",
      "Epoch 5/6\n",
      "1564120/1564120 [==============================] - 3862s 2ms/step - loss: 0.2434 - acc: 0.8948 - val_loss: 0.5348 - val_acc: 0.8011\n",
      "Epoch 6/6\n",
      "1564120/1564120 [==============================] - 3813s 2ms/step - loss: 0.1891 - acc: 0.9193 - val_loss: 0.6735 - val_acc: 0.7987\n"
     ]
    }
   ],
   "source": [
    "# compile the model\n",
    "compile_model(model_2_le)\n",
    "\n",
    "# fit on the training set\n",
    "history_2_le = fit_model(model_2_le, callbacks_list('2_le'), batch_size=256)\n",
    "\n"
   ]
  },
  {
   "cell_type": "code",
   "execution_count": 69,
   "metadata": {},
   "outputs": [
    {
     "name": "stdout",
     "output_type": "stream",
     "text": [
      "15960/15960 [==============================] - 2s 144us/step\n",
      "Feed-Forward (learn an embedding from scratch)\n",
      "Accuracy: 81.848371\n"
     ]
    }
   ],
   "source": [
    "# Load the best model\n",
    "best_model_2_le = load_model('model_2_le.h5')\n",
    "Loss, Accuracy = best_model_2_le.evaluate(x=X_val_sequences, y=y_val)\n",
    "print('Feed-Forward (learn an embedding from scratch)')\n",
    "print('Accuracy: %f' % (Accuracy*100))\n",
    "\n"
   ]
  },
  {
   "cell_type": "code",
   "execution_count": 106,
   "metadata": {},
   "outputs": [
    {
     "data": {
      "image/png": "[encoded data removed]",
      "text/plain": [
       "<Figure size 720x360 with 2 Axes>"
      ]
     },
     "metadata": {},
     "output_type": "display_data"
    }
   ],
   "source": [
    "performance_plot (history_2_le)\n"
   ]
  },
  {
   "cell_type": "markdown",
   "metadata": {},
   "source": [
    "The result shows overfitting after the first epoch. So, I decided to add L2 regularization to embedding layer and compile the model again."
   ]
  },
  {
   "cell_type": "markdown",
   "metadata": {},
   "source": [
    "### Feed-Forward ( learn an Embedding from scratch with L2 regularization)"
   ]
  },
  {
   "cell_type": "code",
   "execution_count": 14,
   "metadata": {},
   "outputs": [],
   "source": [
    "# Model 2_l2: \n",
    "# A simple Neural Net (Embedding + Flatten + Dropout + Dense)\n",
    "# Learn Embedding from scratch\n",
    "# Use L2 regulizer in Embedding layer\n",
    "from keras import regularizers\n",
    "\n",
    "def model_2_l2 (max_features = 100000, embed_dim = 200 , dropout = 0.5, \n",
    "             output_dense_dim = 256, embeddings_regularizer = regularizers.l2(1e-6)):\n",
    "\n",
    "    model = Sequential()\n",
    "    model.add(Embedding(max_features, embed_dim, input_length = maxlen, \n",
    "                        embeddings_regularizer = embeddings_regularizer))\n",
    "    # Flattens the 3D tensor of embeddings into a \n",
    "    # 2D tensor of shape (samples, maxlen * embed_dim)\n",
    "    model.add(Flatten())\n",
    "    # First dense layer\n",
    "    model.add(Dense(output_dense_dim, activation='relu'))\n",
    "    # dropout\n",
    "    model.add(Dropout(dropout))\n",
    "    # Adds the classifier on top\n",
    "    model.add(Dense(1, activation='sigmoid'))\n",
    "    \n",
    "    print(model.summary())\n",
    "    \n",
    "    return model\n",
    "\n",
    "\n"
   ]
  },
  {
   "cell_type": "code",
   "execution_count": 72,
   "metadata": {},
   "outputs": [
    {
     "name": "stdout",
     "output_type": "stream",
     "text": [
      "_________________________________________________________________\n",
      "Layer (type)                 Output Shape              Param #   \n",
      "=================================================================\n",
      "embedding_4 (Embedding)      (None, 60, 200)           20000000  \n",
      "_________________________________________________________________\n",
      "flatten_4 (Flatten)          (None, 12000)             0         \n",
      "_________________________________________________________________\n",
      "dense_7 (Dense)              (None, 256)               3072256   \n",
      "_________________________________________________________________\n",
      "dropout_4 (Dropout)          (None, 256)               0         \n",
      "_________________________________________________________________\n",
      "dense_8 (Dense)              (None, 1)                 257       \n",
      "=================================================================\n",
      "Total params: 23,072,513\n",
      "Trainable params: 23,072,513\n",
      "Non-trainable params: 0\n",
      "_________________________________________________________________\n"
     ]
    }
   ],
   "source": [
    "# Learn Embedding from scratch\n",
    "model_2_l2_le = model_2_l2(output_dense_dim = 256)\n",
    "\n",
    "\n"
   ]
  },
  {
   "cell_type": "code",
   "execution_count": 73,
   "metadata": {},
   "outputs": [
    {
     "name": "stdout",
     "output_type": "stream",
     "text": [
      "Train on 1564120 samples, validate on 15960 samples\n",
      "Epoch 1/6\n",
      "1564120/1564120 [==============================] - 5167s 3ms/step - loss: 0.4518 - acc: 0.7947 - val_loss: 0.4215 - val_acc: 0.8107\n",
      "Epoch 2/6\n",
      "1564120/1564120 [==============================] - 5119s 3ms/step - loss: 0.4123 - acc: 0.8164 - val_loss: 0.4164 - val_acc: 0.8110\n",
      "Epoch 3/6\n",
      "1564120/1564120 [==============================] - 5094s 3ms/step - loss: 0.3937 - acc: 0.8261 - val_loss: 0.4152 - val_acc: 0.8130\n",
      "Epoch 4/6\n",
      "1564120/1564120 [==============================] - 5249s 3ms/step - loss: 0.3733 - acc: 0.8373 - val_loss: 0.4182 - val_acc: 0.8152\n",
      "Epoch 5/6\n",
      "1564120/1564120 [==============================] - 6224s 4ms/step - loss: 0.3485 - acc: 0.8510 - val_loss: 0.4306 - val_acc: 0.8108\n",
      "Epoch 6/6\n",
      "1564120/1564120 [==============================] - 6148s 4ms/step - loss: 0.3214 - acc: 0.8654 - val_loss: 0.4485 - val_acc: 0.8057\n"
     ]
    }
   ],
   "source": [
    "# compile the model\n",
    "compile_model(model_2_l2_le)\n",
    "\n",
    "# fit on the training set\n",
    "history_2_l2_le = fit_model(model_2_l2_le, callbacks_list('2_l2_le'), batch_size=256)\n",
    "\n"
   ]
  },
  {
   "cell_type": "code",
   "execution_count": 74,
   "metadata": {},
   "outputs": [
    {
     "name": "stdout",
     "output_type": "stream",
     "text": [
      "15960/15960 [==============================] - 38s 2ms/step\n",
      "Feed-Forward (learn an embedding from scratch with L2 regularization)\n",
      "Accuracy: 81.303258\n"
     ]
    }
   ],
   "source": [
    "# Load the best model\n",
    "best_model_2_l2_le = load_model('model_2_l2_le.h5')\n",
    "Loss, Accuracy = best_model_2_l2_le.evaluate(x=X_val_sequences, y=y_val)\n",
    "print('Feed-Forward (learn an embedding from scratch with L2 regularization)')\n",
    "print('Accuracy: %f' % (Accuracy*100))\n",
    "\n"
   ]
  },
  {
   "cell_type": "code",
   "execution_count": 104,
   "metadata": {},
   "outputs": [
    {
     "data": {
      "image/png": "[encoded data removed]",
      "text/plain": [
       "<Figure size 720x360 with 2 Axes>"
      ]
     },
     "metadata": {},
     "output_type": "display_data"
    }
   ],
   "source": [
    "performance_plot (history_2_l2_le)\n",
    "\n"
   ]
  },
  {
   "cell_type": "markdown",
   "metadata": {},
   "source": [
    "It seems adding L2 regularization helped in decreasing overfitting. So, I will use L2 regularization for the next architecture as well.\n",
    "\n",
    "\n"
   ]
  },
  {
   "cell_type": "markdown",
   "metadata": {},
   "source": [
    "### Feed-Forward ( fine-tuning pre-trained word2vec with L2 regularization)\n",
    "\n"
   ]
  },
  {
   "cell_type": "code",
   "execution_count": 21,
   "metadata": {},
   "outputs": [],
   "source": [
    "\n",
    "# Model 3: \n",
    "# A simple Neural Net (Embedding + Flatten + Dropout + Dense)\n",
    "# Learning Embedding from word2vec (fine-tune pre-trained word2vec)\n",
    "# we want to update the learned word weights in this model, \n",
    "# therefore we will set the trainable attribute for the model to be True.\n",
    "# Here, embedding_matrix works as an initialization for embedding layer\n",
    "# Use L2 regularization in Embedding layer\n",
    "\n",
    "\n",
    "\n",
    "\n",
    "def model_3_l2 (max_features = 100000, embed_dim = 200 , dropout = 0.5, \n",
    "             embedding_matrix = embedding_matrix, output_dense_dim = 256, \n",
    "             embeddings_regularizer = regularizers.l2(1e-6)):\n",
    "\n",
    "    model = Sequential()\n",
    "    model.add(Embedding(max_features, embed_dim, weights=[embedding_matrix], \n",
    "                        input_length = maxlen, trainable=True, \n",
    "                        embeddings_regularizer = embeddings_regularizer))\n",
    "    # Flattens the 3D tensor of embeddings into a \n",
    "    # 2D tensor of shape (samples, maxlen * embed_dim)\n",
    "    model.add(Flatten())\n",
    "    # First dense layer\n",
    "    model.add(Dense(output_dense_dim, activation='relu'))\n",
    "    # dropout\n",
    "    model.add(Dropout(dropout))\n",
    "    # Adds the classifier on top\n",
    "    model.add(Dense(1, activation='sigmoid'))\n",
    "    \n",
    "    print(model.summary())\n",
    "    \n",
    "    return model\n",
    "\n"
   ]
  },
  {
   "cell_type": "code",
   "execution_count": 103,
   "metadata": {},
   "outputs": [
    {
     "name": "stdout",
     "output_type": "stream",
     "text": [
      "_________________________________________________________________\n",
      "Layer (type)                 Output Shape              Param #   \n",
      "=================================================================\n",
      "embedding_11 (Embedding)     (None, 60, 200)           20000000  \n",
      "_________________________________________________________________\n",
      "flatten_6 (Flatten)          (None, 12000)             0         \n",
      "_________________________________________________________________\n",
      "dense_21 (Dense)             (None, 256)               3072256   \n",
      "_________________________________________________________________\n",
      "dropout_11 (Dropout)         (None, 256)               0         \n",
      "_________________________________________________________________\n",
      "dense_22 (Dense)             (None, 1)                 257       \n",
      "=================================================================\n",
      "Total params: 23,072,513\n",
      "Trainable params: 23,072,513\n",
      "Non-trainable params: 0\n",
      "_________________________________________________________________\n",
      "None\n"
     ]
    }
   ],
   "source": [
    "# fine-tune pre-trained word2vec\n",
    "model_3_l2_lew2v = model_3_l2(output_dense_dim = 256)\n"
   ]
  },
  {
   "cell_type": "code",
   "execution_count": 78,
   "metadata": {},
   "outputs": [
    {
     "name": "stdout",
     "output_type": "stream",
     "text": [
      "Train on 1564120 samples, validate on 15960 samples\n",
      "Epoch 1/6\n",
      "1564120/1564120 [==============================] - 6198s 4ms/step - loss: 4.9531 - acc: 0.7889 - val_loss: 3.3406 - val_acc: 0.8078\n",
      "Epoch 2/6\n",
      "1564120/1564120 [==============================] - 6562s 4ms/step - loss: 2.5439 - acc: 0.8133 - val_loss: 1.9537 - val_acc: 0.8167\n",
      "Epoch 3/6\n",
      "1564120/1564120 [==============================] - 6316s 4ms/step - loss: 1.6047 - acc: 0.8230 - val_loss: 1.3519 - val_acc: 0.8189\n",
      "Epoch 4/6\n",
      "1564120/1564120 [==============================] - 6377s 4ms/step - loss: 1.1665 - acc: 0.8308 - val_loss: 1.0549 - val_acc: 0.8198\n",
      "Epoch 5/6\n",
      "1564120/1564120 [==============================] - 6777s 4ms/step - loss: 0.9345 - acc: 0.8372 - val_loss: 0.8942 - val_acc: 0.8174\n",
      "Epoch 6/6\n",
      "1564120/1564120 [==============================] - 5922s 4ms/step - loss: 0.7966 - acc: 0.8434 - val_loss: 0.7973 - val_acc: 0.8175\n"
     ]
    }
   ],
   "source": [
    "# compile the model\n",
    "compile_model(model_3_l2_lew2v)\n",
    "\n",
    "# fit on the training set\n",
    "history_3_l2_lew2v = fit_model(model_3_l2_lew2v, callbacks_list('3_l2_lew2v'), batch_size=256)\n"
   ]
  },
  {
   "cell_type": "code",
   "execution_count": 79,
   "metadata": {},
   "outputs": [
    {
     "name": "stdout",
     "output_type": "stream",
     "text": [
      "15960/15960 [==============================] - 36s 2ms/step\n",
      "Feed-Forward (fine-tune pre-trained word2vec with L2 regularization)\n",
      "Accuracy: 81.748120\n"
     ]
    }
   ],
   "source": [
    "# Load the best model\n",
    "best_model_3_l2_lew2v = load_model('model_3_l2_lew2v.h5')\n",
    "Loss, Accuracy = best_model_3_l2_lew2v.evaluate(x=X_val_sequences, y=y_val)\n",
    "print('Feed-Forward (fine-tune pre-trained word2vec with L2 regularization)')\n",
    "print('Accuracy: %f' % (Accuracy*100))\n",
    "\n"
   ]
  },
  {
   "cell_type": "code",
   "execution_count": 101,
   "metadata": {},
   "outputs": [
    {
     "data": {
      "image/png": "[encoded data removed]",
      "text/plain": [
       "<Figure size 720x360 with 2 Axes>"
      ]
     },
     "metadata": {},
     "output_type": "display_data"
    }
   ],
   "source": [
    "performance_plot (history_3_l2_lew2v)\n"
   ]
  },
  {
   "cell_type": "markdown",
   "metadata": {},
   "source": [
    "After building three feed-forward neural nets with three different approach for the embedding layer and comparing the validation accuracy for the best model in each approach, we reached to the following conclusion: \n",
    "\n"
   ]
  },
  {
   "cell_type": "markdown",
   "metadata": {},
   "source": [
    "While the validation accuracy of these three variations are pretty close but the model with fixed pre-trained embedding layer (pre-trained word2vec) achieved the lowest accuracy among all three models. The model with pre-trained embedding layer (pre-trained word2vec) when fine-tuning the embedding layer (set trainable = True) outperformed the other two approaches. \n",
    "\n"
   ]
  },
  {
   "cell_type": "markdown",
   "metadata": {},
   "source": [
    "### LSTM (fine-tune pre-trained word2vec)\n",
    "\n"
   ]
  },
  {
   "cell_type": "code",
   "execution_count": 15,
   "metadata": {},
   "outputs": [],
   "source": [
    "from keras.layers import LSTM\n",
    "\n",
    "# Model 4: \n",
    "# A simple LSTM (Embedding + LSTM + Dense)\n",
    "# Unfrozen embedding layer (fine-tune pre-trained word2vec)\n",
    "\n",
    "# LSTM_out : The LSTM output dimensionality\n",
    "# embed_dim: Embedding dimensionality\n",
    "\n",
    "def model_4 (max_features = 100000, embed_dim = 200, dropout = 0.2, recurrent_dropout = 0.2, \n",
    "             LSTM_out = 128, output_dense_dim = 256, embedding_matrix = embedding_matrix, \n",
    "             embeddings_regularizer = regularizers.l2(1e-6)):\n",
    "\n",
    "    model = Sequential()\n",
    "    \n",
    "    model.add(Embedding(max_features, embed_dim, weights =[embedding_matrix],\n",
    "                        input_length = maxlen, trainable = True, \n",
    "                        embeddings_regularizer = embeddings_regularizer))\n",
    "    \n",
    "    model.add(LSTM(LSTM_out, dropout = dropout, recurrent_dropout = recurrent_dropout))\n",
    "    \n",
    "    model.add(Dense(output_dense_dim, activation='relu'))\n",
    "    \n",
    "    model.add(Dropout(dropout))\n",
    "    \n",
    "    model.add(Dense(1, activation='sigmoid'))\n",
    "    \n",
    "    print(model.summary())\n",
    "    \n",
    "    return model\n",
    "\n",
    "\n"
   ]
  },
  {
   "cell_type": "code",
   "execution_count": 100,
   "metadata": {},
   "outputs": [
    {
     "name": "stdout",
     "output_type": "stream",
     "text": [
      "_________________________________________________________________\n",
      "Layer (type)                 Output Shape              Param #   \n",
      "=================================================================\n",
      "embedding_10 (Embedding)     (None, 60, 200)           20000000  \n",
      "_________________________________________________________________\n",
      "lstm_7 (LSTM)                (None, 128)               168448    \n",
      "_________________________________________________________________\n",
      "dense_19 (Dense)             (None, 256)               33024     \n",
      "_________________________________________________________________\n",
      "dropout_10 (Dropout)         (None, 256)               0         \n",
      "_________________________________________________________________\n",
      "dense_20 (Dense)             (None, 1)                 257       \n",
      "=================================================================\n",
      "Total params: 20,201,729\n",
      "Trainable params: 20,201,729\n",
      "Non-trainable params: 0\n",
      "_________________________________________________________________\n",
      "None\n"
     ]
    }
   ],
   "source": [
    "# LSTM (fine-tune pre-trained word2vec)\n",
    "model_4_w2v = model_4(dropout = 0.2, recurrent_dropout = 0.2, output_dense_dim = 256)\n",
    "\n"
   ]
  },
  {
   "cell_type": "code",
   "execution_count": 85,
   "metadata": {},
   "outputs": [
    {
     "name": "stdout",
     "output_type": "stream",
     "text": [
      "Train on 1564120 samples, validate on 15960 samples\n",
      "Epoch 1/6\n",
      "1564120/1564120 [==============================] - 10036s 6ms/step - loss: 4.8059 - acc: 0.7950 - val_loss: 3.1214 - val_acc: 0.8181\n",
      "Epoch 2/6\n",
      "1564120/1564120 [==============================] - 9118s 6ms/step - loss: 2.3246 - acc: 0.8158 - val_loss: 1.7208 - val_acc: 0.8262\n",
      "Epoch 3/6\n",
      "1564120/1564120 [==============================] - 9075s 6ms/step - loss: 1.3995 - acc: 0.8243 - val_loss: 1.1405 - val_acc: 0.8291\n",
      "Epoch 4/6\n",
      "1564120/1564120 [==============================] - 9177s 6ms/step - loss: 0.9909 - acc: 0.8294 - val_loss: 0.8654 - val_acc: 0.8334\n",
      "Epoch 5/6\n",
      "1564120/1564120 [==============================] - 10034s 6ms/step - loss: 0.7871 - acc: 0.8331 - val_loss: 0.7217 - val_acc: 0.8343\n",
      "Epoch 6/6\n",
      "1564120/1564120 [==============================] - 10032s 6ms/step - loss: 0.6737 - acc: 0.8364 - val_loss: 0.6371 - val_acc: 0.8357\n"
     ]
    }
   ],
   "source": [
    "\n",
    "# compile the model\n",
    "compile_model(model_4_w2v)\n",
    "\n",
    "# fit on the training set\n",
    "history_4_w2v = fit_model(model_4_w2v, callbacks_list('4_w2v'), batch_size=256)\n"
   ]
  },
  {
   "cell_type": "code",
   "execution_count": 86,
   "metadata": {},
   "outputs": [
    {
     "name": "stdout",
     "output_type": "stream",
     "text": [
      "15960/15960 [==============================] - 57s 4ms/step\n",
      "LSTM (fine-tune pre-trained word2vec with L2 regularization)\n",
      "Accuracy: 83.571429\n"
     ]
    }
   ],
   "source": [
    "# Load the best model\n",
    "best_model_4_w2v = load_model('model_4_w2v.h5')\n",
    "Loss, Accuracy = best_model_4_w2v.evaluate(x=X_val_sequences, y=y_val)\n",
    "print('LSTM (fine-tune pre-trained word2vec with L2 regularization)')\n",
    "print('Accuracy: %f' % (Accuracy*100))\n",
    "\n"
   ]
  },
  {
   "cell_type": "code",
   "execution_count": 97,
   "metadata": {},
   "outputs": [
    {
     "data": {
      "image/png": "[encoded data removed]",
      "text/plain": [
       "<Figure size 720x360 with 2 Axes>"
      ]
     },
     "metadata": {},
     "output_type": "display_data"
    }
   ],
   "source": [
    "performance_plot (history_4_w2v)\n",
    "\n"
   ]
  },
  {
   "cell_type": "code",
   "execution_count": null,
   "metadata": {},
   "outputs": [],
   "source": [
    "### LSTM (Fixed pre-trained word2vec)"
   ]
  },
  {
   "cell_type": "code",
   "execution_count": 23,
   "metadata": {},
   "outputs": [],
   "source": [
    "from keras.layers import LSTM\n",
    "\n",
    "# Model 4: \n",
    "# A simple LSTM (Embedding + LSTM + Dense)\n",
    "# Unfrozen embedding layer (fine-tune pre-trained word2vec)\n",
    "\n",
    "# LSTM_out : The LSTM output dimensionality\n",
    "# embed_dim: Embedding dimensionality\n",
    "\n",
    "def model_4_f (max_features = 100000, embed_dim = 200, dropout = 0.2, recurrent_dropout = 0.2, \n",
    "             LSTM_out = 128, output_dense_dim = 256, embedding_matrix = embedding_matrix): \n",
    "             \n",
    "\n",
    "    model = Sequential()\n",
    "    \n",
    "    model.add(Embedding(max_features, embed_dim, weights =[embedding_matrix],\n",
    "                        input_length = maxlen, trainable = False))\n",
    "                        \n",
    "    \n",
    "    model.add(LSTM(LSTM_out, dropout = dropout, recurrent_dropout = recurrent_dropout))\n",
    "    \n",
    "    model.add(Dense(output_dense_dim, activation='relu'))\n",
    "    \n",
    "    model.add(Dropout(dropout))\n",
    "    \n",
    "    model.add(Dense(1, activation='sigmoid'))\n",
    "    \n",
    "    print(model.summary())\n",
    "    \n",
    "    return model\n",
    "\n",
    "\n"
   ]
  },
  {
   "cell_type": "code",
   "execution_count": null,
   "metadata": {},
   "outputs": [],
   "source": [
    "# LSTM (fine-tune pre-trained word2vec)\n",
    "model_4_w2v_fixed = model_4_f(dropout = 0.2, recurrent_dropout = 0.2, output_dense_dim = 256)\n",
    "\n"
   ]
  },
  {
   "cell_type": "code",
   "execution_count": null,
   "metadata": {},
   "outputs": [],
   "source": [
    "# compile the model\n",
    "compile_model(model_4_w2v_fixed)\n",
    "\n",
    "# fit on the training set\n",
    "history_4_w2v_fixed = fit_model(model_4_w2v_fixed, callbacks_list('4_w2v_fixed'), batch_size=256)\n",
    "\n"
   ]
  },
  {
   "cell_type": "code",
   "execution_count": null,
   "metadata": {},
   "outputs": [],
   "source": [
    "# Load the best model\n",
    "best_model_4_w2v_fixed = load_model('model_4_w2v_fixed.h5')\n",
    "Loss, Accuracy = best_model_4_w2v_fixed.evaluate(x=X_val_sequences, y=y_val)\n",
    "print('LSTM (Fixed pre-trained word2vec)')\n",
    "print('Accuracy: %f' % (Accuracy*100))\n",
    "\n"
   ]
  },
  {
   "cell_type": "code",
   "execution_count": null,
   "metadata": {},
   "outputs": [],
   "source": [
    "performance_plot (history_4_w2v_fixed)\n",
    "\n"
   ]
  },
  {
   "cell_type": "markdown",
   "metadata": {},
   "source": [
    "### Stacked LSTM\n",
    "\n"
   ]
  },
  {
   "cell_type": "code",
   "execution_count": 24,
   "metadata": {},
   "outputs": [],
   "source": [
    "\n",
    "# Model 5: \n",
    "# Stacked LSTM\n",
    "# To stack recurrent layers on top of each other, we need to specify return_sequences=True\n",
    "# for all intermediate layers to return their full sequence of outputs\n",
    "# rather than their output at the last timestep.\n",
    "\n",
    "\n",
    "def model_5 (max_features = 100000, embed_dim = 200, dropout = 0.2, recurrent_dropout = 0.2, \n",
    "             output_dense_dim = 256, embedding_matrix = embedding_matrix, \n",
    "             LSTM_out_1 = 128, LSTM_out_2 = 128, LSTM_out_3 = 128, \n",
    "             embeddings_regularizer = regularizers.l2(1e-6)):\n",
    "    \n",
    "    model = Sequential()\n",
    "\n",
    "    model.add(Embedding(max_features, embed_dim, weights =[embedding_matrix],\n",
    "                        input_length = maxlen, trainable = True, \n",
    "                        embeddings_regularizer = embeddings_regularizer))\n",
    "\n",
    "    model.add(LSTM(LSTM_out_1, \n",
    "                   dropout=dropout, \n",
    "                   recurrent_dropout=recurrent_dropout, \n",
    "                   return_sequences=True))\n",
    "\n",
    "    model.add(LSTM(LSTM_out_2, \n",
    "                   dropout=dropout, \n",
    "                   recurrent_dropout=recurrent_dropout, \n",
    "                   return_sequences=True))\n",
    "\n",
    "    model.add(LSTM(LSTM_out_3, \n",
    "                   dropout=dropout, \n",
    "                   recurrent_dropout=recurrent_dropout))\n",
    "    \n",
    "    model.add(Dense(output_dense_dim, activation='relu'))\n",
    "    \n",
    "    model.add(Dropout(dropout))\n",
    "\n",
    "    model.add(Dense(1, activation='sigmoid'))\n",
    "    \n",
    "    print(model.summary())\n",
    "    \n",
    "    return model\n",
    "\n"
   ]
  },
  {
   "cell_type": "code",
   "execution_count": 92,
   "metadata": {},
   "outputs": [
    {
     "name": "stdout",
     "output_type": "stream",
     "text": [
      "_________________________________________________________________\n",
      "Layer (type)                 Output Shape              Param #   \n",
      "=================================================================\n",
      "embedding_8 (Embedding)      (None, 60, 200)           20000000  \n",
      "_________________________________________________________________\n",
      "lstm_3 (LSTM)                (None, 60, 128)           168448    \n",
      "_________________________________________________________________\n",
      "lstm_4 (LSTM)                (None, 60, 128)           131584    \n",
      "_________________________________________________________________\n",
      "lstm_5 (LSTM)                (None, 128)               131584    \n",
      "_________________________________________________________________\n",
      "dense_15 (Dense)             (None, 256)               33024     \n",
      "_________________________________________________________________\n",
      "dropout_8 (Dropout)          (None, 256)               0         \n",
      "_________________________________________________________________\n",
      "dense_16 (Dense)             (None, 1)                 257       \n",
      "=================================================================\n",
      "Total params: 20,464,897\n",
      "Trainable params: 20,464,897\n",
      "Non-trainable params: 0\n",
      "_________________________________________________________________\n"
     ]
    }
   ],
   "source": [
    "\n",
    "# Stacked LSTM (fine-tune pre-trained word2vec)\n",
    "model_5_w2v = model_5(dropout = 0.2, recurrent_dropout = 0.2, output_dense_dim = 256)\n",
    "\n"
   ]
  },
  {
   "cell_type": "code",
   "execution_count": 93,
   "metadata": {},
   "outputs": [
    {
     "name": "stdout",
     "output_type": "stream",
     "text": [
      "Train on 1564120 samples, validate on 15960 samples\n",
      "Epoch 1/6\n",
      "1564120/1564120 [==============================] - 19615s 13ms/step - loss: 4.7874 - acc: 0.7924 - val_loss: 3.0916 - val_acc: 0.8204\n",
      "Epoch 2/6\n",
      "1564120/1564120 [==============================] - 19204s 12ms/step - loss: 2.2955 - acc: 0.8142 - val_loss: 1.6867 - val_acc: 0.8265\n",
      "Epoch 3/6\n",
      "1564120/1564120 [==============================] - 16762s 11ms/step - loss: 1.3687 - acc: 0.8229 - val_loss: 1.1087 - val_acc: 0.8289\n",
      "Epoch 4/6\n",
      "1564120/1564120 [==============================] - 18442s 12ms/step - loss: 0.9649 - acc: 0.8281 - val_loss: 0.8396 - val_acc: 0.8325\n",
      "Epoch 5/6\n",
      "1564120/1564120 [==============================] - 19072s 12ms/step - loss: 0.7664 - acc: 0.8323 - val_loss: 0.7028 - val_acc: 0.8319\n",
      "Epoch 6/6\n",
      "1564120/1564120 [==============================] - 19500s 12ms/step - loss: 0.6581 - acc: 0.8353 - val_loss: 0.6208 - val_acc: 0.8353\n"
     ]
    }
   ],
   "source": [
    "\n",
    "# compile the model\n",
    "compile_model(model_5_w2v)\n",
    "\n",
    "# fit on the training set\n",
    "history_5_w2v = fit_model(model_5_w2v, callbacks_list('5_w2v'), batch_size=256)\n",
    "\n"
   ]
  },
  {
   "cell_type": "code",
   "execution_count": 95,
   "metadata": {},
   "outputs": [
    {
     "name": "stdout",
     "output_type": "stream",
     "text": [
      "15960/15960 [==============================] - 108s 7ms/step\n",
      "Stacked LSTM (fine-tune pre-trained word2vec with L2 regularization)\n",
      "Accuracy: 83.527569\n"
     ]
    }
   ],
   "source": [
    "# Load the best model\n",
    "best_model_5_w2v = load_model('model_5_w2v.h5')\n",
    "Loss, Accuracy = best_model_5_w2v.evaluate(x=X_val_sequences, y=y_val)\n",
    "print('Stacked LSTM (fine-tune pre-trained word2vec with L2 regularization)')\n",
    "print('Accuracy: %f' % (Accuracy*100))\n",
    "\n"
   ]
  },
  {
   "cell_type": "code",
   "execution_count": 96,
   "metadata": {},
   "outputs": [
    {
     "data": {
      "image/png": "[encoded data removed]",
      "text/plain": [
       "<Figure size 720x360 with 2 Axes>"
      ]
     },
     "metadata": {},
     "output_type": "display_data"
    }
   ],
   "source": [
    "performance_plot (history_5_w2v)\n",
    "\n"
   ]
  },
  {
   "cell_type": "markdown",
   "metadata": {},
   "source": [
    "### Bidirectional LSTM\n",
    "\n"
   ]
  },
  {
   "cell_type": "code",
   "execution_count": 16,
   "metadata": {},
   "outputs": [],
   "source": [
    "from keras.layers import Bidirectional\n",
    "\n",
    "# Model 6: \n",
    "# Bidirectional LSTM\n",
    "# Bidirectional creates a second, separate instance for the recurrent layer and it uses\n",
    "# one instance in chronological order and the other one in the reversed order.\n",
    "\n",
    "def model_6 (max_features = 100000, embed_dim = 200, dropout = 0.2, recurrent_dropout = 0.2, \n",
    "             LSTM_out = 128, output_dense_dim = 256, embedding_matrix = embedding_matrix, \n",
    "             embeddings_regularizer = regularizers.l2(1e-6)): \n",
    "             \n",
    "\n",
    "    model = Sequential()\n",
    "\n",
    "    model.add(Embedding(max_features, embed_dim, weights =[embedding_matrix],\n",
    "                        input_length = maxlen, trainable = True, \n",
    "                        embeddings_regularizer = embeddings_regularizer))\n",
    "\n",
    "    model.add(Bidirectional(LSTM(LSTM_out, \n",
    "                                 dropout=dropout, \n",
    "                                 recurrent_dropout=recurrent_dropout,\n",
    "                                 return_sequences=True))) \n",
    "    \n",
    "    model.add(Flatten())\n",
    "    \n",
    "    model.add(Dense(output_dense_dim, activation='relu'))\n",
    "    \n",
    "    model.add(Dropout(dropout))\n",
    "\n",
    "    model.add(Dense(1, activation='sigmoid'))\n",
    "    \n",
    "    print(model.summary())\n",
    "    \n",
    "    return model\n",
    "\n",
    "\n"
   ]
  },
  {
   "cell_type": "code",
   "execution_count": 17,
   "metadata": {},
   "outputs": [
    {
     "name": "stdout",
     "output_type": "stream",
     "text": [
      "WARNING:tensorflow:From /anaconda3/lib/python3.7/site-packages/tensorflow/python/framework/op_def_library.py:263: colocate_with (from tensorflow.python.framework.ops) is deprecated and will be removed in a future version.\n",
      "Instructions for updating:\n",
      "Colocations handled automatically by placer.\n",
      "WARNING:tensorflow:From /anaconda3/lib/python3.7/site-packages/keras/backend/tensorflow_backend.py:3445: calling dropout (from tensorflow.python.ops.nn_ops) with keep_prob is deprecated and will be removed in a future version.\n",
      "Instructions for updating:\n",
      "Please use `rate` instead of `keep_prob`. Rate should be set to `rate = 1 - keep_prob`.\n",
      "_________________________________________________________________\n",
      "Layer (type)                 Output Shape              Param #   \n",
      "=================================================================\n",
      "embedding_1 (Embedding)      (None, 60, 200)           20000000  \n",
      "_________________________________________________________________\n",
      "bidirectional_1 (Bidirection (None, 60, 256)           336896    \n",
      "_________________________________________________________________\n",
      "flatten_1 (Flatten)          (None, 15360)             0         \n",
      "_________________________________________________________________\n",
      "dense_1 (Dense)              (None, 256)               3932416   \n",
      "_________________________________________________________________\n",
      "dropout_1 (Dropout)          (None, 256)               0         \n",
      "_________________________________________________________________\n",
      "dense_2 (Dense)              (None, 1)                 257       \n",
      "=================================================================\n",
      "Total params: 24,269,569\n",
      "Trainable params: 24,269,569\n",
      "Non-trainable params: 0\n",
      "_________________________________________________________________\n",
      "None\n"
     ]
    }
   ],
   "source": [
    "# Bidirectional LSTM (fine-tune pre-trained word2vec)\n",
    "model_6_w2v = model_6(dropout = 0.2, recurrent_dropout = 0.2, output_dense_dim = 256)\n",
    "\n",
    "\n"
   ]
  },
  {
   "cell_type": "code",
   "execution_count": null,
   "metadata": {},
   "outputs": [],
   "source": [
    "# compile the model\n",
    "compile_model(model_6_w2v)\n",
    "\n",
    "# fit on the training set\n",
    "history_6_w2v = fit_model(model_6_w2v, callbacks_list('6_w2v'), batch_size=256)\n",
    "\n"
   ]
  },
  {
   "cell_type": "code",
   "execution_count": null,
   "metadata": {},
   "outputs": [],
   "source": [
    "# Load the best model\n",
    "best_model_6_w2v = load_model('model_6_w2v.h5')\n",
    "Loss, Accuracy = best_model_6_w2v.evaluate(x=X_val_sequences, y=y_val)\n",
    "print('Bidirectional LSTM (fine-tune pre-trained word2vec with L2 regularization)')\n",
    "print('Accuracy: %f' % (Accuracy*100))\n",
    "\n"
   ]
  },
  {
   "cell_type": "code",
   "execution_count": null,
   "metadata": {},
   "outputs": [],
   "source": [
    "performance_plot (history_6_w2v)\n"
   ]
  },
  {
   "cell_type": "markdown",
   "metadata": {},
   "source": [
    "### Stacked Bidirectional LSTM\n",
    "\n"
   ]
  },
  {
   "cell_type": "code",
   "execution_count": 18,
   "metadata": {},
   "outputs": [],
   "source": [
    "\n",
    "\n",
    "# Model 7: \n",
    "# Bidirectional LSTM\n",
    "# Bidirectional creates a second, separate instance for the recurrent layer and it uses\n",
    "# one instance in chronoligical order and the other one in the reversed order.\n",
    "\n",
    "def model_7 (max_features = 100000, embed_dim = 200, dropout = 0.2, recurrent_dropout = 0.2, \n",
    "             output_dense_dim = 256, embedding_matrix = embedding_matrix,\n",
    "             LSTM_out_1 = 128, LSTM_out_2 = 128,\n",
    "             embeddings_regularizer = regularizers.l2(1e-6)): \n",
    "             \n",
    "\n",
    "    model = Sequential()\n",
    "\n",
    "    model.add(Embedding(max_features, embed_dim, weights =[embedding_matrix],\n",
    "                        input_length = maxlen, trainable = True, \n",
    "                        embeddings_regularizer = embeddings_regularizer))\n",
    "\n",
    "    model.add(Bidirectional(LSTM(LSTM_out_1, \n",
    "                                 dropout=dropout, \n",
    "                                 recurrent_dropout=recurrent_dropout,\n",
    "                                return_sequences=True))) \n",
    "    \n",
    "    model.add(Bidirectional(LSTM(LSTM_out_2, \n",
    "                                 dropout=dropout, \n",
    "                                 recurrent_dropout=recurrent_dropout,\n",
    "                                return_sequences=True))) \n",
    "    \n",
    "    model.add(Flatten())\n",
    "    \n",
    "    model.add(Dense(output_dense_dim, activation='relu'))\n",
    "    \n",
    "    model.add(Dropout(dropout))\n",
    "\n",
    "    model.add(Dense(1, activation='sigmoid'))\n",
    "    \n",
    "    print(model.summary())\n",
    "    \n",
    "    return model\n",
    "\n",
    "\n",
    "\n"
   ]
  },
  {
   "cell_type": "code",
   "execution_count": 19,
   "metadata": {},
   "outputs": [
    {
     "name": "stdout",
     "output_type": "stream",
     "text": [
      "_________________________________________________________________\n",
      "Layer (type)                 Output Shape              Param #   \n",
      "=================================================================\n",
      "embedding_2 (Embedding)      (None, 60, 200)           20000000  \n",
      "_________________________________________________________________\n",
      "bidirectional_2 (Bidirection (None, 60, 256)           336896    \n",
      "_________________________________________________________________\n",
      "bidirectional_3 (Bidirection (None, 60, 256)           394240    \n",
      "_________________________________________________________________\n",
      "flatten_2 (Flatten)          (None, 15360)             0         \n",
      "_________________________________________________________________\n",
      "dense_3 (Dense)              (None, 256)               3932416   \n",
      "_________________________________________________________________\n",
      "dropout_2 (Dropout)          (None, 256)               0         \n",
      "_________________________________________________________________\n",
      "dense_4 (Dense)              (None, 1)                 257       \n",
      "=================================================================\n",
      "Total params: 24,663,809\n",
      "Trainable params: 24,663,809\n",
      "Non-trainable params: 0\n",
      "_________________________________________________________________\n",
      "None\n"
     ]
    }
   ],
   "source": [
    "# Stacked Bidirectional LSTM (fine-tune pre-trained word2vec)\n",
    "model_7_w2v = model_7(dropout = 0.2, recurrent_dropout = 0.2, output_dense_dim = 256)\n",
    "\n",
    "\n"
   ]
  },
  {
   "cell_type": "code",
   "execution_count": null,
   "metadata": {},
   "outputs": [],
   "source": [
    "# compile the model\n",
    "compile_model(model_7_w2v)\n",
    "\n",
    "# fit on the training set\n",
    "history_7_w2v = fit_model(model_7_w2v, callbacks_list('7_w2v'), batch_size=256)\n",
    "\n",
    "\n"
   ]
  },
  {
   "cell_type": "code",
   "execution_count": null,
   "metadata": {},
   "outputs": [],
   "source": [
    "# Load the best model\n",
    "best_model_7_w2v = load_model('model_7_w2v.h5')\n",
    "Loss, Accuracy = best_model_7_w2v.evaluate(x=X_val_sequences, y=y_val)\n",
    "print('Stacked Bidirectional LSTM (fine-tune pre-trained word2vec with L2 regularization)')\n",
    "print('Accuracy: %f' % (Accuracy*100))\n",
    "\n"
   ]
  },
  {
   "cell_type": "code",
   "execution_count": null,
   "metadata": {},
   "outputs": [],
   "source": [
    "performance_plot (history_7_w2v)\n",
    "\n"
   ]
  },
  {
   "cell_type": "markdown",
   "metadata": {},
   "source": [
    "### CNN (Fixed pre-trained word2vec)\n"
   ]
  },
  {
   "cell_type": "code",
   "execution_count": 24,
   "metadata": {},
   "outputs": [],
   "source": [
    "from keras.layers import Conv1D, MaxPooling1D, GlobalMaxPooling1D, Flatten\n",
    "\n",
    "# Model 8: CNN\n",
    "\n",
    "# nb_filter : Number of filters\n",
    "# conv_window : Convolution window size\n",
    "\n",
    "\n",
    "def model_8 (max_features=100000, embed_dim=200, dropout = 0.2, nb_filter = 128, conv_window = 3, \n",
    "             pool_size=2, output_dense_dim = 256, embedding_matrix = embedding_matrix): \n",
    "             \n",
    "              \n",
    "\n",
    "    model = Sequential()\n",
    "\n",
    "    model.add(Embedding(max_features, embed_dim, weights =[embedding_matrix],\n",
    "                        input_length = maxlen, trainable = False))\n",
    "                       \n",
    "\n",
    "    #model.add(Conv1D(nb_filter, conv_window, activation='relu'))\n",
    "    \n",
    "    #model.add(MaxPooling1D(pool_size))\n",
    "    \n",
    "    #model.add(Dropout(dropout))\n",
    "    \n",
    "    model.add(Conv1D(nb_filter, conv_window, activation='relu'))\n",
    "    \n",
    "    model.add(GlobalMaxPooling1D())\n",
    "    \n",
    "    model.add(Dropout(dropout))\n",
    "    \n",
    "    model.add(Dense(output_dense_dim, activation='relu'))\n",
    "    \n",
    "    model.add(Dropout(dropout))\n",
    "\n",
    "    model.add(Dense(1, activation='sigmoid'))\n",
    "    \n",
    "    print(model.summary())\n",
    "    \n",
    "    return model\n"
   ]
  },
  {
   "cell_type": "code",
   "execution_count": 26,
   "metadata": {},
   "outputs": [
    {
     "name": "stdout",
     "output_type": "stream",
     "text": [
      "_________________________________________________________________\n",
      "Layer (type)                 Output Shape              Param #   \n",
      "=================================================================\n",
      "embedding_1 (Embedding)      (None, 60, 200)           20000000  \n",
      "_________________________________________________________________\n",
      "conv1d_1 (Conv1D)            (None, 58, 128)           76928     \n",
      "_________________________________________________________________\n",
      "global_max_pooling1d_1 (Glob (None, 128)               0         \n",
      "_________________________________________________________________\n",
      "dropout_1 (Dropout)          (None, 128)               0         \n",
      "_________________________________________________________________\n",
      "dense_1 (Dense)              (None, 256)               33024     \n",
      "_________________________________________________________________\n",
      "dropout_2 (Dropout)          (None, 256)               0         \n",
      "_________________________________________________________________\n",
      "dense_2 (Dense)              (None, 1)                 257       \n",
      "=================================================================\n",
      "Total params: 20,110,209\n",
      "Trainable params: 110,209\n",
      "Non-trainable params: 20,000,000\n",
      "_________________________________________________________________\n",
      "None\n"
     ]
    }
   ],
   "source": [
    "# CNN (Fixed pre-trained word2vec)\n",
    "model_8_w2v = model_8(dropout = 0.2, output_dense_dim = 256)\n",
    "\n"
   ]
  },
  {
   "cell_type": "code",
   "execution_count": 27,
   "metadata": {},
   "outputs": [
    {
     "name": "stdout",
     "output_type": "stream",
     "text": [
      "Train on 1564120 samples, validate on 15960 samples\n",
      "Epoch 1/6\n",
      "1564120/1564120 [==============================] - 1606s 1ms/step - loss: 0.4314 - acc: 0.7994 - val_loss: 0.3992 - val_acc: 0.8205\n",
      "Epoch 2/6\n",
      "1564120/1564120 [==============================] - 1696s 1ms/step - loss: 0.4055 - acc: 0.8146 - val_loss: 0.3929 - val_acc: 0.8266\n",
      "Epoch 3/6\n",
      "1564120/1564120 [==============================] - 1683s 1ms/step - loss: 0.3973 - acc: 0.8193 - val_loss: 0.3921 - val_acc: 0.8232\n",
      "Epoch 4/6\n",
      "1564120/1564120 [==============================] - 1541s 985us/step - loss: 0.3918 - acc: 0.8222 - val_loss: 0.3897 - val_acc: 0.8251\n",
      "Epoch 5/6\n",
      "1564120/1564120 [==============================] - 1564s 1000us/step - loss: 0.3884 - acc: 0.8241 - val_loss: 0.3848 - val_acc: 0.8288\n",
      "Epoch 6/6\n",
      "1564120/1564120 [==============================] - 1511s 966us/step - loss: 0.3855 - acc: 0.8256 - val_loss: 0.3868 - val_acc: 0.8270\n"
     ]
    }
   ],
   "source": [
    "# compile the model\n",
    "compile_model(model_8_w2v)\n",
    "\n",
    "# fit on the training set\n",
    "history_8_w2v = fit_model(model_8_w2v, callbacks_list('8_w2v'), epochs=6, batch_size=256)\n"
   ]
  },
  {
   "cell_type": "code",
   "execution_count": 29,
   "metadata": {},
   "outputs": [
    {
     "name": "stdout",
     "output_type": "stream",
     "text": [
      "15960/15960 [==============================] - 5s 306us/step\n",
      "CNN (Fixed pre-trained word2vec)\n",
      "Accuracy: 82.875940\n"
     ]
    }
   ],
   "source": [
    "# Load the best model\n",
    "from keras.models import load_model\n",
    "best_model_8_w2v = load_model('model_8_w2v.h5')\n",
    "Loss, Accuracy = best_model_8_w2v.evaluate(x=X_val_sequences, y=y_val)\n",
    "print('CNN (Fixed pre-trained word2vec)')\n",
    "print('Accuracy: %f' % (Accuracy*100))\n",
    "\n"
   ]
  },
  {
   "cell_type": "code",
   "execution_count": 30,
   "metadata": {},
   "outputs": [
    {
     "data": {
      "image/png": "[encoded data removed]",
      "text/plain": [
       "<Figure size 720x360 with 2 Axes>"
      ]
     },
     "metadata": {},
     "output_type": "display_data"
    }
   ],
   "source": [
    "performance_plot (history_8_w2v)\n"
   ]
  },
  {
   "cell_type": "markdown",
   "metadata": {},
   "source": [
    "### CNN + LSTM (fine-tune pre-trained word2vec)\n"
   ]
  },
  {
   "cell_type": "code",
   "execution_count": 20,
   "metadata": {},
   "outputs": [],
   "source": [
    "\n",
    "\n",
    "# Model 9: CNN + LSTM\n",
    "\n",
    "\n",
    "def model_9 (max_features=100000, embed_dim=200, dropout = 0.2, nb_filter = 128,conv_window = 3, \n",
    "             pool_size=2, output_dense_dim = 256, embedding_matrix = embedding_matrix, \n",
    "             recurrent_dropout = 0.2, embeddings_regularizer = regularizers.l2(1e-6),\n",
    "             LSTM_out = 128):\n",
    "    \n",
    "    model = Sequential()\n",
    "\n",
    "    model.add(Embedding(max_features, embed_dim, weights =[embedding_matrix],\n",
    "                        input_length = maxlen, trainable = True, \n",
    "                        embeddings_regularizer = embeddings_regularizer))\n",
    "\n",
    "    model.add(Conv1D(nb_filter, conv_window, activation='relu'))\n",
    "    \n",
    "    model.add(MaxPooling1D(pool_size))\n",
    "    \n",
    "    model.add(Conv1D(nb_filter, conv_window, activation='relu'))\n",
    "    \n",
    "    model.add(LSTM(LSTM_out, dropout=dropout, recurrent_dropout=recurrent_dropout))\n",
    "    \n",
    "    model.add(Dense(output_dense_dim, activation='relu'))\n",
    "\n",
    "    model.add(Dropout(dropout))\n",
    "\n",
    "    model.add(Dense(1, activation='sigmoid'))\n",
    "    \n",
    "    print(model.summary())\n",
    "    \n",
    "    return model\n"
   ]
  },
  {
   "cell_type": "code",
   "execution_count": 21,
   "metadata": {},
   "outputs": [
    {
     "name": "stdout",
     "output_type": "stream",
     "text": [
      "_________________________________________________________________\n",
      "Layer (type)                 Output Shape              Param #   \n",
      "=================================================================\n",
      "embedding_2 (Embedding)      (None, 60, 200)           20000000  \n",
      "_________________________________________________________________\n",
      "conv1d_3 (Conv1D)            (None, 58, 128)           76928     \n",
      "_________________________________________________________________\n",
      "max_pooling1d_2 (MaxPooling1 (None, 29, 128)           0         \n",
      "_________________________________________________________________\n",
      "conv1d_4 (Conv1D)            (None, 27, 128)           49280     \n",
      "_________________________________________________________________\n",
      "lstm_1 (LSTM)                (None, 128)               131584    \n",
      "_________________________________________________________________\n",
      "dense_3 (Dense)              (None, 256)               33024     \n",
      "_________________________________________________________________\n",
      "dropout_4 (Dropout)          (None, 256)               0         \n",
      "_________________________________________________________________\n",
      "dense_4 (Dense)              (None, 1)                 257       \n",
      "=================================================================\n",
      "Total params: 20,291,073\n",
      "Trainable params: 20,291,073\n",
      "Non-trainable params: 0\n",
      "_________________________________________________________________\n",
      "None\n"
     ]
    }
   ],
   "source": [
    "# CNN + LSTM (fine-tune pre-trained word2vec)\n",
    "model_9_w2v = model_9(dropout = 0.2, output_dense_dim = 256)\n"
   ]
  },
  {
   "cell_type": "code",
   "execution_count": null,
   "metadata": {},
   "outputs": [
    {
     "name": "stdout",
     "output_type": "stream",
     "text": [
      "Train on 1564120 samples, validate on 15960 samples\n",
      "Epoch 1/6\n"
     ]
    }
   ],
   "source": [
    "# compile the model\n",
    "compile_model(model_9_w2v)\n",
    "\n",
    "# fit on the training set\n",
    "history_9_w2v = fit_model(model_9_w2v, callbacks_list('9_w2v'), batch_size=256)\n",
    "\n"
   ]
  },
  {
   "cell_type": "code",
   "execution_count": null,
   "metadata": {},
   "outputs": [],
   "source": [
    "# Load the best model\n",
    "best_model_9_w2v = load_model('model_9_w2v.h5')\n",
    "Loss, Accuracy = best_model_9_w2v.evaluate(x=X_val_sequences, y=y_val)\n",
    "print('CNN + LSTM (fine-tune pre-trained word2vec with L2 regularization)')\n",
    "print('Accuracy: %f' % (Accuracy*100))\n",
    "\n"
   ]
  },
  {
   "cell_type": "code",
   "execution_count": null,
   "metadata": {},
   "outputs": [],
   "source": [
    "performance_plot (history_9_w2v)\n"
   ]
  },
  {
   "cell_type": "markdown",
   "metadata": {},
   "source": [
    "### CNN + LSTM (Fixed pre-trained word2vec)\n",
    "\n"
   ]
  },
  {
   "cell_type": "code",
   "execution_count": 28,
   "metadata": {},
   "outputs": [],
   "source": [
    "\n",
    "\n",
    "# Model 9: CNN + LSTM\n",
    "\n",
    "\n",
    "def model_9_f (max_features=100000, embed_dim=200, dropout = 0.2, nb_filter = 128,conv_window = 3, \n",
    "             pool_size=2, output_dense_dim = 256, embedding_matrix = embedding_matrix, \n",
    "             recurrent_dropout = 0.2,LSTM_out = 128):\n",
    "    \n",
    "    model = Sequential()\n",
    "\n",
    "    model.add(Embedding(max_features, embed_dim, weights =[embedding_matrix],\n",
    "                        input_length = maxlen, trainable = False)) \n",
    "                        \n",
    "\n",
    "    model.add(Conv1D(nb_filter, conv_window, activation='relu'))\n",
    "    \n",
    "    model.add(MaxPooling1D(pool_size))\n",
    "    \n",
    "    model.add(Dropout(dropout))\n",
    "    \n",
    "    #model.add(Conv1D(nb_filter, conv_window, activation='relu'))\n",
    "    \n",
    "    model.add(LSTM(LSTM_out, dropout=dropout, recurrent_dropout=recurrent_dropout))\n",
    "    \n",
    "    model.add(Dense(output_dense_dim, activation='relu'))\n",
    "\n",
    "    model.add(Dropout(dropout))\n",
    "\n",
    "    model.add(Dense(1, activation='sigmoid'))\n",
    "    \n",
    "    print(model.summary())\n",
    "    \n",
    "    return model\n",
    "\n"
   ]
  },
  {
   "cell_type": "code",
   "execution_count": 29,
   "metadata": {},
   "outputs": [
    {
     "name": "stdout",
     "output_type": "stream",
     "text": [
      "WARNING:tensorflow:From /anaconda3/lib/python3.7/site-packages/keras/backend/tensorflow_backend.py:3445: calling dropout (from tensorflow.python.ops.nn_ops) with keep_prob is deprecated and will be removed in a future version.\n",
      "Instructions for updating:\n",
      "Please use `rate` instead of `keep_prob`. Rate should be set to `rate = 1 - keep_prob`.\n",
      "_________________________________________________________________\n",
      "Layer (type)                 Output Shape              Param #   \n",
      "=================================================================\n",
      "embedding_2 (Embedding)      (None, 60, 200)           20000000  \n",
      "_________________________________________________________________\n",
      "conv1d_1 (Conv1D)            (None, 58, 128)           76928     \n",
      "_________________________________________________________________\n",
      "max_pooling1d_1 (MaxPooling1 (None, 29, 128)           0         \n",
      "_________________________________________________________________\n",
      "dropout_1 (Dropout)          (None, 29, 128)           0         \n",
      "_________________________________________________________________\n",
      "lstm_1 (LSTM)                (None, 128)               131584    \n",
      "_________________________________________________________________\n",
      "dense_1 (Dense)              (None, 256)               33024     \n",
      "_________________________________________________________________\n",
      "dropout_2 (Dropout)          (None, 256)               0         \n",
      "_________________________________________________________________\n",
      "dense_2 (Dense)              (None, 1)                 257       \n",
      "=================================================================\n",
      "Total params: 20,241,793\n",
      "Trainable params: 241,793\n",
      "Non-trainable params: 20,000,000\n",
      "_________________________________________________________________\n",
      "None\n"
     ]
    }
   ],
   "source": [
    "# CNN + LSTM (Fixed pre-trained word2vec)\n",
    "model_9_w2v_fixed = model_9_f(dropout = 0.2, output_dense_dim = 256)\n",
    "\n"
   ]
  },
  {
   "cell_type": "code",
   "execution_count": null,
   "metadata": {},
   "outputs": [
    {
     "name": "stdout",
     "output_type": "stream",
     "text": [
      "WARNING:tensorflow:From /anaconda3/lib/python3.7/site-packages/tensorflow/python/ops/math_ops.py:3066: to_int32 (from tensorflow.python.ops.math_ops) is deprecated and will be removed in a future version.\n",
      "Instructions for updating:\n",
      "Use tf.cast instead.\n",
      "Train on 1564120 samples, validate on 15960 samples\n",
      "Epoch 1/6\n"
     ]
    }
   ],
   "source": [
    "# compile the model\n",
    "compile_model(model_9_w2v_fixed)\n",
    "\n",
    "# fit on the training set\n",
    "history_9_w2v_fixed = fit_model(model_9_w2v_fixed, callbacks_list('9_w2v_fixed'), batch_size=256)\n",
    "\n"
   ]
  },
  {
   "cell_type": "code",
   "execution_count": null,
   "metadata": {},
   "outputs": [],
   "source": [
    "# Load the best model\n",
    "best_model_9_w2v_fixed = load_model('model_9_w2v_fixed.h5')\n",
    "Loss, Accuracy = best_model_9_w2v_fixed.evaluate(x=X_val_sequences, y=y_val)\n",
    "print('CNN + LSTM (Fixed pre-trained word2vec)')\n",
    "print('Accuracy: %f' % (Accuracy*100))\n",
    "\n"
   ]
  },
  {
   "cell_type": "code",
   "execution_count": null,
   "metadata": {},
   "outputs": [],
   "source": [
    "performance_plot (history_9_w2v_fixed)"
   ]
  },
  {
   "cell_type": "code",
   "execution_count": null,
   "metadata": {},
   "outputs": [
    {
     "name": "stdout",
     "output_type": "stream",
     "text": [
      "WARNING:tensorflow:From /anaconda3/lib/python3.7/site-packages/keras/backend/tensorflow_backend.py:3445: calling dropout (from tensorflow.python.ops.nn_ops) with keep_prob is deprecated and will be removed in a future version.\n",
      "Instructions for updating:\n",
      "Please use `rate` instead of `keep_prob`. Rate should be set to `rate = 1 - keep_prob`.\n",
      "WARNING:tensorflow:From /anaconda3/lib/python3.7/site-packages/tensorflow/python/ops/math_ops.py:3066: to_int32 (from tensorflow.python.ops.math_ops) is deprecated and will be removed in a future version.\n",
      "Instructions for updating:\n",
      "Use tf.cast instead.\n"
     ]
    }
   ],
   "source": [
    "# anaconda faced some problems when running the code\n",
    "# I had run it with pycharm and saved the result\n",
    "\n",
    "#history_9_w2v_fixed_historyresult.csv\n",
    "#model_9_w2v_fixed.h5\n",
    "\n",
    "best_model_9_w2v_fixed = load_model('model_9_w2v_fixed.h5')\n",
    "Loss, Accuracy = best_model_9_w2v_fixed.evaluate(x=X_val_sequences, y=y_val)\n",
    "print('CNN + LSTM (Fixed pre-trained word2vec)')\n",
    "print('Accuracy: %f' % (Accuracy*100))\n",
    "\n"
   ]
  },
  {
   "cell_type": "code",
   "execution_count": 11,
   "metadata": {},
   "outputs": [
    {
     "data": {
      "text/html": [
       "<div>\n",
       "<style scoped>\n",
       "    .dataframe tbody tr th:only-of-type {\n",
       "        vertical-align: middle;\n",
       "    }\n",
       "\n",
       "    .dataframe tbody tr th {\n",
       "        vertical-align: top;\n",
       "    }\n",
       "\n",
       "    .dataframe thead th {\n",
       "        text-align: right;\n",
       "    }\n",
       "</style>\n",
       "<table border=\"1\" class=\"dataframe\">\n",
       "  <thead>\n",
       "    <tr style=\"text-align: right;\">\n",
       "      <th></th>\n",
       "      <th>val_loss</th>\n",
       "      <th>val_acc</th>\n",
       "      <th>loss</th>\n",
       "      <th>acc</th>\n",
       "      <th>lr</th>\n",
       "    </tr>\n",
       "  </thead>\n",
       "  <tbody>\n",
       "    <tr>\n",
       "      <th>0</th>\n",
       "      <td>0.392502</td>\n",
       "      <td>0.821554</td>\n",
       "      <td>0.420118</td>\n",
       "      <td>0.805805</td>\n",
       "      <td>0.001</td>\n",
       "    </tr>\n",
       "    <tr>\n",
       "      <th>1</th>\n",
       "      <td>0.382622</td>\n",
       "      <td>0.828133</td>\n",
       "      <td>0.393138</td>\n",
       "      <td>0.821838</td>\n",
       "      <td>0.001</td>\n",
       "    </tr>\n",
       "    <tr>\n",
       "      <th>2</th>\n",
       "      <td>0.377188</td>\n",
       "      <td>0.831454</td>\n",
       "      <td>0.384587</td>\n",
       "      <td>0.826678</td>\n",
       "      <td>0.001</td>\n",
       "    </tr>\n",
       "    <tr>\n",
       "      <th>3</th>\n",
       "      <td>0.376298</td>\n",
       "      <td>0.832080</td>\n",
       "      <td>0.379758</td>\n",
       "      <td>0.829223</td>\n",
       "      <td>0.001</td>\n",
       "    </tr>\n",
       "    <tr>\n",
       "      <th>4</th>\n",
       "      <td>0.374860</td>\n",
       "      <td>0.832769</td>\n",
       "      <td>0.376089</td>\n",
       "      <td>0.831049</td>\n",
       "      <td>0.001</td>\n",
       "    </tr>\n",
       "    <tr>\n",
       "      <th>5</th>\n",
       "      <td>0.372113</td>\n",
       "      <td>0.832644</td>\n",
       "      <td>0.373623</td>\n",
       "      <td>0.832600</td>\n",
       "      <td>0.001</td>\n",
       "    </tr>\n",
       "  </tbody>\n",
       "</table>\n",
       "</div>"
      ],
      "text/plain": [
       "   val_loss   val_acc      loss       acc     lr\n",
       "0  0.392502  0.821554  0.420118  0.805805  0.001\n",
       "1  0.382622  0.828133  0.393138  0.821838  0.001\n",
       "2  0.377188  0.831454  0.384587  0.826678  0.001\n",
       "3  0.376298  0.832080  0.379758  0.829223  0.001\n",
       "4  0.374860  0.832769  0.376089  0.831049  0.001\n",
       "5  0.372113  0.832644  0.373623  0.832600  0.001"
      ]
     },
     "execution_count": 11,
     "metadata": {},
     "output_type": "execute_result"
    }
   ],
   "source": [
    "history_9_w2v_fixed_historyresult = pd.read_csv('history_9_w2v_fixed_historyresult.csv', index_col=0)\n",
    "history_9_w2v_fixed_historyresult\n"
   ]
  },
  {
   "cell_type": "code",
   "execution_count": 16,
   "metadata": {},
   "outputs": [
    {
     "data": {
      "image/png": "[encoded data removed]",
      "text/plain": [
       "<Figure size 720x360 with 2 Axes>"
      ]
     },
     "metadata": {
      "needs_background": "light"
     },
     "output_type": "display_data"
    }
   ],
   "source": [
    "acc = history_9_w2v_fixed_historyresult['acc']\n",
    "val_acc = history_9_w2v_fixed_historyresult['val_acc']\n",
    "loss = history_9_w2v_fixed_historyresult['loss']\n",
    "val_loss = history_9_w2v_fixed_historyresult['val_loss']\n",
    "epochs = range(1, len(acc) + 1)\n",
    "    \n",
    "plt.figure(figsize=(10,5))\n",
    "sns.set(font_scale=1.2)   \n",
    "sns.set_style('darkgrid')\n",
    "\n",
    "plt.subplot(1,2,1)   \n",
    "plt.plot(epochs, acc, '-', label='Training acc')\n",
    "plt.plot(epochs, val_acc, '--', label='Validation acc')\n",
    "plt.xlabel('Epoch')\n",
    "plt.ylabel('Accuracy')\n",
    "plt.title('Training and validation accuracy')\n",
    "plt.legend(loc=0)\n",
    "\n",
    "\n",
    "plt.subplot(1,2,2)\n",
    "plt.plot(epochs, loss, '-', label='Training loss')\n",
    "plt.plot(epochs, val_loss, '--', label='Validation loss')\n",
    "plt.xlabel('Epoch')\n",
    "plt.ylabel('Loss')\n",
    "plt.title('Training and validation loss')\n",
    "plt.legend(loc=0)\n",
    "    \n",
    "plt.tight_layout()\n"
   ]
  },
  {
   "cell_type": "code",
   "execution_count": null,
   "metadata": {},
   "outputs": [],
   "source": []
  },
  {
   "cell_type": "markdown",
   "metadata": {},
   "source": [
    "### LSTM + CNN (fine-tune pre-trained word2vec)\n"
   ]
  },
  {
   "cell_type": "code",
   "execution_count": null,
   "metadata": {},
   "outputs": [],
   "source": [
    "# Model 10: LSTM + CNN\n",
    "\n",
    "\n",
    "def model_10 (max_features=100000, embed_dim=200, dropout=0.2, nb_filter=128, conv_window=3, LSTM_out=128\n",
    "             pool_size=2, output_dense_dim = 256, embedding_matrix = embedding_matrix, \n",
    "             recurrent_dropout = 0.2, embeddings_regularizer = regularizers.l2(1e-6)):\n",
    "    \n",
    "    model = Sequential()\n",
    "\n",
    "    model.add(Embedding(max_features, embed_dim, weights =[embedding_matrix],\n",
    "                        input_length = maxlen, trainable = True, \n",
    "                        embeddings_regularizer = embeddings_regularizer))\n",
    "    \n",
    "    model.add(LSTM(LSTM_out, dropout=dropout, recurrent_dropout=recurrent_dropout))\n",
    "\n",
    "    model.add(Conv1D(nb_filter, conv_window, activation='relu'))\n",
    "    \n",
    "    model.add(MaxPooling1D(pool_size))\n",
    "    \n",
    "    model.add(Conv1D(nb_filter, conv_window, activation='relu'))\n",
    "    \n",
    "    model.add(Dense(output_dense_dim, activation='relu'))\n",
    "\n",
    "    model.add(Dropout(dropout))\n",
    "\n",
    "    model.add(Dense(1, activation='sigmoid'))\n",
    "    \n",
    "    print(model.summary())\n",
    "    \n",
    "    return model\n",
    "\n"
   ]
  },
  {
   "cell_type": "code",
   "execution_count": null,
   "metadata": {},
   "outputs": [],
   "source": [
    "# LSTM + CNN (fine-tune pre-trained word2vec)\n",
    "model_10_w2v = model_10(dropout = 0.2, output_dense_dim = 256)\n",
    "\n",
    "\n"
   ]
  },
  {
   "cell_type": "code",
   "execution_count": null,
   "metadata": {},
   "outputs": [],
   "source": [
    "# compile the model\n",
    "compile_model(model_10_w2v)\n",
    "\n",
    "# fit on the training set\n",
    "history_10_w2v = fit_model(model_10_w2v, callbacks_list('10_w2v'), batch_size=256)\n"
   ]
  },
  {
   "cell_type": "code",
   "execution_count": null,
   "metadata": {},
   "outputs": [],
   "source": [
    "# Load the best model\n",
    "best_model_10_w2v = load_model('model_10_w2v.h5')\n",
    "Loss, Accuracy = best_model_10_w2v.evaluate(x=X_val_sequences, y=y_val)\n",
    "print('LSTM + CNN (fine-tune pre-trained word2vec with L2 regularization)')\n",
    "print('Accuracy: %f' % (Accuracy*100))\n",
    "\n"
   ]
  },
  {
   "cell_type": "code",
   "execution_count": null,
   "metadata": {},
   "outputs": [],
   "source": [
    "performance_plot (history_10_w2v)\n",
    "\n"
   ]
  },
  {
   "cell_type": "markdown",
   "metadata": {},
   "source": [
    "### LSTM + CNN (Fixed pre-trained word2vec)"
   ]
  },
  {
   "cell_type": "code",
   "execution_count": 22,
   "metadata": {},
   "outputs": [],
   "source": [
    "# Model 10: LSTM + CNN\n",
    "from keras.layers import Reshape\n",
    "\n",
    "def model_10_f (max_features=100000, embed_dim=200, dropout=0.2, nb_filter=128, conv_window=3, \n",
    "             pool_size=2, output_dense_dim = 256, embedding_matrix = embedding_matrix, \n",
    "             recurrent_dropout = 0.2, LSTM_out=128):\n",
    "    \n",
    "    model = Sequential()\n",
    "\n",
    "    model.add(Embedding(max_features, embed_dim, weights =[embedding_matrix],\n",
    "                        input_length = maxlen, trainable = False))\n",
    "    \n",
    "    model.add(LSTM(LSTM_out, dropout=dropout, recurrent_dropout=recurrent_dropout))\n",
    "    \n",
    "    model.add(Reshape((LSTM_out, 1)))\n",
    "\n",
    "    model.add(Conv1D(nb_filter, conv_window, activation='relu'))\n",
    "    \n",
    "    model.add(MaxPooling1D(pool_size))\n",
    "    \n",
    "    model.add(Conv1D(nb_filter, conv_window, activation='relu'))\n",
    "    \n",
    "    model.add(Flatten())\n",
    "    \n",
    "    model.add(Dense(output_dense_dim, activation='relu'))\n",
    "\n",
    "    model.add(Dropout(dropout))\n",
    "\n",
    "    model.add(Dense(1, activation='sigmoid'))\n",
    "    \n",
    "    print(model.summary())\n",
    "    \n",
    "    return model\n",
    "\n",
    "\n"
   ]
  },
  {
   "cell_type": "code",
   "execution_count": 23,
   "metadata": {},
   "outputs": [
    {
     "name": "stdout",
     "output_type": "stream",
     "text": [
      "_________________________________________________________________\n",
      "Layer (type)                 Output Shape              Param #   \n",
      "=================================================================\n",
      "embedding_2 (Embedding)      (None, 60, 200)           20000000  \n",
      "_________________________________________________________________\n",
      "lstm_2 (LSTM)                (None, 128)               168448    \n",
      "_________________________________________________________________\n",
      "reshape_2 (Reshape)          (None, 128, 1)            0         \n",
      "_________________________________________________________________\n",
      "conv1d_1 (Conv1D)            (None, 126, 128)          512       \n",
      "_________________________________________________________________\n",
      "max_pooling1d_1 (MaxPooling1 (None, 63, 128)           0         \n",
      "_________________________________________________________________\n",
      "conv1d_2 (Conv1D)            (None, 61, 128)           49280     \n",
      "_________________________________________________________________\n",
      "flatten_1 (Flatten)          (None, 7808)              0         \n",
      "_________________________________________________________________\n",
      "dense_1 (Dense)              (None, 256)               1999104   \n",
      "_________________________________________________________________\n",
      "dropout_1 (Dropout)          (None, 256)               0         \n",
      "_________________________________________________________________\n",
      "dense_2 (Dense)              (None, 1)                 257       \n",
      "=================================================================\n",
      "Total params: 22,217,601\n",
      "Trainable params: 2,217,601\n",
      "Non-trainable params: 20,000,000\n",
      "_________________________________________________________________\n",
      "None\n"
     ]
    }
   ],
   "source": [
    "# LSTM + CNN (fine-tune pre-trained word2vec)\n",
    "model_10_w2v_fixed = model_10_f(dropout = 0.2, output_dense_dim = 256)\n",
    "\n",
    "\n",
    "\n"
   ]
  },
  {
   "cell_type": "code",
   "execution_count": null,
   "metadata": {},
   "outputs": [
    {
     "name": "stdout",
     "output_type": "stream",
     "text": [
      "WARNING:tensorflow:From /anaconda3/lib/python3.7/site-packages/tensorflow/python/ops/math_ops.py:3066: to_int32 (from tensorflow.python.ops.math_ops) is deprecated and will be removed in a future version.\n",
      "Instructions for updating:\n",
      "Use tf.cast instead.\n",
      "Train on 1564120 samples, validate on 15960 samples\n",
      "Epoch 1/6\n"
     ]
    }
   ],
   "source": [
    "# compile the model\n",
    "compile_model(model_10_w2v_fixed)\n",
    "\n",
    "# fit on the training set\n",
    "history_10_w2v_fixed = fit_model(model_10_w2v_fixed, callbacks_list('10_w2v_fixed'), batch_size=256)\n",
    "\n"
   ]
  },
  {
   "cell_type": "code",
   "execution_count": null,
   "metadata": {},
   "outputs": [],
   "source": [
    "# Load the best model\n",
    "best_model_10_w2v_fixed = load_model('model_10_w2v_fixed.h5')\n",
    "Loss, Accuracy = best_model_10_w2v_fixed.evaluate(x=X_val_sequences, y=y_val)\n",
    "print('LSTM + CNN (Fixed pre-trained word2vec)')\n",
    "print('Accuracy: %f' % (Accuracy*100))\n",
    "\n",
    "\n"
   ]
  },
  {
   "cell_type": "code",
   "execution_count": null,
   "metadata": {},
   "outputs": [],
   "source": [
    "performance_plot (history_10_w2v)\n",
    "\n",
    "\n"
   ]
  },
  {
   "cell_type": "markdown",
   "metadata": {},
   "source": [
    "# An Inception Module with CNN\n"
   ]
  },
  {
   "cell_type": "markdown",
   "metadata": {},
   "source": [
    "An Inception Module consists of a stack of modules that themselves look like small independent networks, split into several parallel branches. Here, we want to adopt this idea and create different branches of conolutional neural nets with the help of keras functional API.\n",
    "The proposed model has three branches containing convolutions with window sizes of 3, 4, and 5, and ending with the concatenation of the resulting features. This setup helps the network separately learn spatial features and channel-wise features, which is more efficient than learning them jointly.\n",
    "\n"
   ]
  },
  {
   "cell_type": "code",
   "execution_count": 25,
   "metadata": {},
   "outputs": [],
   "source": [
    "from keras.layers import Input, concatenate\n",
    "from keras.models import Model\n",
    "\n",
    "\n",
    "\n",
    "def model_11(max_features=100000, embed_dim=200, dropout=0.2, output_dense_dim=256,\n",
    "             embedding_matrix=embedding_matrix, nb_filter_a=128, conv_window_a=3,\n",
    "             pool_size_a=2, nb_filter_b=128, conv_window_b=4,\n",
    "             nb_filter_c=128, conv_window_c=5):\n",
    "\n",
    "    tweets_input = Input(shape=(maxlen,), dtype='int32')\n",
    "\n",
    "    embed_layer = Embedding(max_features, embed_dim, weights=[embedding_matrix],\n",
    "                            input_length=maxlen, trainable=False)(tweets_input)\n",
    "\n",
    "    branch_a = Conv1D(nb_filter_a, conv_window_a, activation='relu')(embed_layer)\n",
    "    branch_a = GlobalMaxPooling1D()(branch_a)\n",
    "    \n",
    "\n",
    "    branch_b = Conv1D(nb_filter_b, conv_window_b, activation='relu')(embed_layer)\n",
    "    branch_b = GlobalMaxPooling1D()(branch_b)\n",
    "    \n",
    "\n",
    "    branch_c = Conv1D(nb_filter_c, conv_window_c, activation='relu')(embed_layer)\n",
    "    branch_c = GlobalMaxPooling1D()(branch_c)\n",
    "    \n",
    "\n",
    "    output = concatenate([branch_a, branch_b, branch_c], axis=1)\n",
    "    output = Dropout(dropout)(output)\n",
    "    output = Dense(output_dense_dim, activation='relu')(output)\n",
    "    output = Dropout(dropout)(output)\n",
    "    output = Dense(1, activation='sigmoid')(output)\n",
    "\n",
    "    model = Model(inputs=[tweets_input], outputs=[output])\n",
    "\n",
    "    print(model.summary())\n",
    "\n",
    "    return model\n",
    "\n",
    "\n",
    "\n"
   ]
  },
  {
   "cell_type": "code",
   "execution_count": 26,
   "metadata": {},
   "outputs": [
    {
     "name": "stdout",
     "output_type": "stream",
     "text": [
      "__________________________________________________________________________________________________\n",
      "Layer (type)                    Output Shape         Param #     Connected to                     \n",
      "==================================================================================================\n",
      "input_2 (InputLayer)            (None, 60)           0                                            \n",
      "__________________________________________________________________________________________________\n",
      "embedding_4 (Embedding)         (None, 60, 200)      20000000    input_2[0][0]                    \n",
      "__________________________________________________________________________________________________\n",
      "conv1d_1 (Conv1D)               (None, 58, 128)      76928       embedding_4[0][0]                \n",
      "__________________________________________________________________________________________________\n",
      "conv1d_2 (Conv1D)               (None, 57, 128)      102528      embedding_4[0][0]                \n",
      "__________________________________________________________________________________________________\n",
      "conv1d_3 (Conv1D)               (None, 56, 128)      128128      embedding_4[0][0]                \n",
      "__________________________________________________________________________________________________\n",
      "global_max_pooling1d_1 (GlobalM (None, 128)          0           conv1d_1[0][0]                   \n",
      "__________________________________________________________________________________________________\n",
      "global_max_pooling1d_2 (GlobalM (None, 128)          0           conv1d_2[0][0]                   \n",
      "__________________________________________________________________________________________________\n",
      "global_max_pooling1d_3 (GlobalM (None, 128)          0           conv1d_3[0][0]                   \n",
      "__________________________________________________________________________________________________\n",
      "concatenate_1 (Concatenate)     (None, 384)          0           global_max_pooling1d_1[0][0]     \n",
      "                                                                 global_max_pooling1d_2[0][0]     \n",
      "                                                                 global_max_pooling1d_3[0][0]     \n",
      "__________________________________________________________________________________________________\n",
      "dropout_3 (Dropout)             (None, 384)          0           concatenate_1[0][0]              \n",
      "__________________________________________________________________________________________________\n",
      "dense_5 (Dense)                 (None, 256)          98560       dropout_3[0][0]                  \n",
      "__________________________________________________________________________________________________\n",
      "dropout_4 (Dropout)             (None, 256)          0           dense_5[0][0]                    \n",
      "__________________________________________________________________________________________________\n",
      "dense_6 (Dense)                 (None, 1)            257         dropout_4[0][0]                  \n",
      "==================================================================================================\n",
      "Total params: 20,406,401\n",
      "Trainable params: 406,401\n",
      "Non-trainable params: 20,000,000\n",
      "__________________________________________________________________________________________________\n",
      "None\n"
     ]
    }
   ],
   "source": [
    "# An Inception Module for CNN (fine_tune pre-trained word2vec)\n",
    "model_11_w2v = model_11(dropout = 0.2, output_dense_dim = 256)\n",
    "\n",
    "\n"
   ]
  },
  {
   "cell_type": "code",
   "execution_count": null,
   "metadata": {},
   "outputs": [],
   "source": [
    "# compile the model\n",
    "compile_model(model_11_w2v)\n",
    "\n",
    "# fit on the training set\n",
    "history_11_w2v = fit_model(model_11_w2v, callbacks_list('11_w2v'), batch_size=256)\n",
    "\n"
   ]
  },
  {
   "cell_type": "code",
   "execution_count": null,
   "metadata": {},
   "outputs": [],
   "source": [
    "# Load the best model\n",
    "best_model_11_w2v = load_model('model_11_w2v.h5')\n",
    "Loss, Accuracy = best_model_11_w2v.evaluate(x=X_val_sequences, y=y_val)\n",
    "print('An Inception Module for CNN (fine-tune pre-trained word2vec with L2 regularization)')\n",
    "print('Accuracy: %f' % (Accuracy*100))\n",
    "\n"
   ]
  },
  {
   "cell_type": "code",
   "execution_count": null,
   "metadata": {},
   "outputs": [],
   "source": [
    "performance_plot (history_11_w2v)\n",
    "\n"
   ]
  },
  {
   "cell_type": "markdown",
   "metadata": {},
   "source": [
    "# An Inception Module with LSTM\n"
   ]
  },
  {
   "cell_type": "code",
   "execution_count": 27,
   "metadata": {},
   "outputs": [],
   "source": [
    "\n",
    "def model_12 (max_features = 100000, embed_dim = 200, dropout = 0.2, output_dense_dim = 128, \n",
    "              embedding_matrix = embedding_matrix, embeddings_regularizer = regularizers.l2(1e-6),\n",
    "              LSTM_out=64 ,dropout_a=0.2 ,dropout_b=0.2 ,dropout_c=0.2 ,\n",
    "              recurrent_dropout_a=0.2 ,recurrent_dropout_b=0.2 ,recurrent_dropout_c=0.2):\n",
    "              \n",
    "\n",
    "    tweets_input = Input(shape=(maxlen,), dtype='int32')\n",
    "\n",
    "    embed_layer = Embedding(max_features, embed_dim, weights =[embedding_matrix],\n",
    "                            input_length = maxlen, trainable = True, \n",
    "                            embeddings_regularizer = embeddings_regularizer)(tweets_input)\n",
    "\n",
    "    branch_a = LSTM(LSTM_out, dropout=dropout_a, recurrent_dropout=recurrent_dropout_a)(embed_layer)\n",
    "    \n",
    "    branch_b = LSTM(LSTM_out, dropout=dropout_b, recurrent_dropout=recurrent_dropout_b)(embed_layer)\n",
    "    \n",
    "    branch_c = LSTM(LSTM_out, dropout=dropout_c, recurrent_dropout=recurrent_dropout_c)(embed_layer)\n",
    "\n",
    "    \n",
    "    output = concatenate([branch_a, branch_b, branch_c], axis=1)\n",
    "    output = Dense(output_dense_dim, activation='relu')(output)\n",
    "    output = Dropout(dropout)(output)\n",
    "    output = Dense(1, activation='sigmoid')(output)\n",
    "    \n",
    "    model = Model(inputs=[tweets_input], outputs=[output])\n",
    "    \n",
    "    print(model.summary())\n",
    "    \n",
    "    return model\n",
    "\n"
   ]
  },
  {
   "cell_type": "code",
   "execution_count": 31,
   "metadata": {},
   "outputs": [
    {
     "name": "stdout",
     "output_type": "stream",
     "text": [
      "__________________________________________________________________________________________________\n",
      "Layer (type)                    Output Shape         Param #     Connected to                     \n",
      "==================================================================================================\n",
      "input_5 (InputLayer)            (None, 60)           0                                            \n",
      "__________________________________________________________________________________________________\n",
      "embedding_7 (Embedding)         (None, 60, 200)      20000000    input_5[0][0]                    \n",
      "__________________________________________________________________________________________________\n",
      "lstm_9 (LSTM)                   (None, 64)           67840       embedding_7[0][0]                \n",
      "__________________________________________________________________________________________________\n",
      "lstm_10 (LSTM)                  (None, 64)           67840       embedding_7[0][0]                \n",
      "__________________________________________________________________________________________________\n",
      "lstm_11 (LSTM)                  (None, 64)           67840       embedding_7[0][0]                \n",
      "__________________________________________________________________________________________________\n",
      "concatenate_4 (Concatenate)     (None, 192)          0           lstm_9[0][0]                     \n",
      "                                                                 lstm_10[0][0]                    \n",
      "                                                                 lstm_11[0][0]                    \n",
      "__________________________________________________________________________________________________\n",
      "dense_12 (Dense)                (None, 128)          24704       concatenate_4[0][0]              \n",
      "__________________________________________________________________________________________________\n",
      "dropout_7 (Dropout)             (None, 128)          0           dense_12[0][0]                   \n",
      "__________________________________________________________________________________________________\n",
      "dense_13 (Dense)                (None, 1)            129         dropout_7[0][0]                  \n",
      "==================================================================================================\n",
      "Total params: 20,228,353\n",
      "Trainable params: 20,228,353\n",
      "Non-trainable params: 0\n",
      "__________________________________________________________________________________________________\n",
      "None\n"
     ]
    }
   ],
   "source": [
    "# An Inception Module for LSTM (fine_tune pre-trained word2vec)\n",
    "model_12_w2v = model_12(dropout = 0.2, output_dense_dim = 128)\n",
    "\n"
   ]
  },
  {
   "cell_type": "code",
   "execution_count": null,
   "metadata": {},
   "outputs": [],
   "source": [
    "# compile the model\n",
    "compile_model(model_12_w2v)\n",
    "\n",
    "# fit on the training set\n",
    "history_12_w2v = fit_model(model_12_w2v, callbacks_list('12_w2v'), batch_size=256)\n",
    "\n"
   ]
  },
  {
   "cell_type": "code",
   "execution_count": null,
   "metadata": {},
   "outputs": [],
   "source": [
    "# Load the best model\n",
    "best_model_12_w2v = load_model('model_12_w2v.h5')\n",
    "Loss, Accuracy = best_model_12_w2v.evaluate(x=X_val_sequences, y=y_val)\n",
    "print('An Inception Module for LSTM (fine-tune pre-trained word2vec with L2 regularization)')\n",
    "print('Accuracy: %f' % (Accuracy*100))\n",
    "\n"
   ]
  },
  {
   "cell_type": "code",
   "execution_count": null,
   "metadata": {},
   "outputs": [],
   "source": [
    "performance_plot (history_12_w2v)\n"
   ]
  },
  {
   "cell_type": "markdown",
   "metadata": {},
   "source": [
    "### An Inception Module with LSTM, CNN, Bidirectional LSTM"
   ]
  },
  {
   "cell_type": "code",
   "execution_count": 34,
   "metadata": {},
   "outputs": [],
   "source": [
    "\n",
    "def model_13 (max_features = 100000, embed_dim = 200, dropout = 0.2, output_dense_dim = 128, \n",
    "              embedding_matrix = embedding_matrix, embeddings_regularizer = regularizers.l2(1e-6),\n",
    "              LSTM_out_a=128, recurrent_dropout_a=0.2 ,dropout_a=0.2 ,nb_filter_b=128, conv_window_b=3 ,\n",
    "              LSTM_out_c=128,dropout_c=0.2 ,recurrent_dropout_c=0.2):\n",
    "              \n",
    "\n",
    "    tweets_input = Input(shape=(maxlen,), dtype='int32')\n",
    "\n",
    "    embed_layer = Embedding(max_features, embed_dim, weights =[embedding_matrix],\n",
    "                            input_length = maxlen, trainable = True, \n",
    "                            embeddings_regularizer = embeddings_regularizer)(tweets_input)\n",
    "\n",
    "    branch_a = LSTM(LSTM_out_a, dropout=dropout_a, recurrent_dropout=recurrent_dropout_a)(embed_layer)\n",
    "    \n",
    "    branch_b = Conv1D(nb_filter_b, conv_window_b, activation='relu')(embed_layer)\n",
    "    branch_b = GlobalMaxPooling1D()(branch_b)\n",
    "    \n",
    "    branch_c = Bidirectional(LSTM(LSTM_out_c, \n",
    "                                  dropout=dropout_c, \n",
    "                                  recurrent_dropout=recurrent_dropout_c,\n",
    "                                  return_sequences=True))(embed_layer) \n",
    "    branch_c = Flatten()(branch_c)\n",
    "    branch_c = Dense(output_dense_dim, activation='relu')(branch_c)\n",
    "\n",
    "    \n",
    "    output = concatenate([branch_a, branch_b, branch_c], axis=1)\n",
    "    output = Dense(output_dense_dim, activation='relu')(output)\n",
    "    output = Dropout(dropout)(output)\n",
    "    output = Dense(1, activation='sigmoid')(output)\n",
    "    \n",
    "    model = Model(inputs=[tweets_input], outputs=[output])\n",
    "    \n",
    "    print(model.summary())\n",
    "    \n",
    "    return model\n",
    "\n",
    "\n"
   ]
  },
  {
   "cell_type": "code",
   "execution_count": 35,
   "metadata": {},
   "outputs": [
    {
     "name": "stdout",
     "output_type": "stream",
     "text": [
      "__________________________________________________________________________________________________\n",
      "Layer (type)                    Output Shape         Param #     Connected to                     \n",
      "==================================================================================================\n",
      "input_7 (InputLayer)            (None, 60)           0                                            \n",
      "__________________________________________________________________________________________________\n",
      "embedding_9 (Embedding)         (None, 60, 200)      20000000    input_7[0][0]                    \n",
      "__________________________________________________________________________________________________\n",
      "bidirectional_6 (Bidirectional) (None, 60, 256)      336896      embedding_9[0][0]                \n",
      "__________________________________________________________________________________________________\n",
      "conv1d_6 (Conv1D)               (None, 58, 128)      76928       embedding_9[0][0]                \n",
      "__________________________________________________________________________________________________\n",
      "flatten_5 (Flatten)             (None, 15360)        0           bidirectional_6[0][0]            \n",
      "__________________________________________________________________________________________________\n",
      "lstm_14 (LSTM)                  (None, 128)          168448      embedding_9[0][0]                \n",
      "__________________________________________________________________________________________________\n",
      "global_max_pooling1d_6 (GlobalM (None, 128)          0           conv1d_6[0][0]                   \n",
      "__________________________________________________________________________________________________\n",
      "dense_17 (Dense)                (None, 128)          1966208     flatten_5[0][0]                  \n",
      "__________________________________________________________________________________________________\n",
      "concatenate_6 (Concatenate)     (None, 384)          0           lstm_14[0][0]                    \n",
      "                                                                 global_max_pooling1d_6[0][0]     \n",
      "                                                                 dense_17[0][0]                   \n",
      "__________________________________________________________________________________________________\n",
      "dense_18 (Dense)                (None, 128)          49280       concatenate_6[0][0]              \n",
      "__________________________________________________________________________________________________\n",
      "dropout_9 (Dropout)             (None, 128)          0           dense_18[0][0]                   \n",
      "__________________________________________________________________________________________________\n",
      "dense_19 (Dense)                (None, 1)            129         dropout_9[0][0]                  \n",
      "==================================================================================================\n",
      "Total params: 22,597,889\n",
      "Trainable params: 22,597,889\n",
      "Non-trainable params: 0\n",
      "__________________________________________________________________________________________________\n",
      "None\n"
     ]
    }
   ],
   "source": [
    "# An Inception Module with LSTM, CNN, Bidirectional LSTM (fine_tune pre-trained word2vec)\n",
    "model_13_w2v = model_13(output_dense_dim = 128)\n",
    "\n"
   ]
  },
  {
   "cell_type": "code",
   "execution_count": null,
   "metadata": {},
   "outputs": [],
   "source": [
    "# compile the model\n",
    "compile_model(model_13_w2v)\n",
    "\n",
    "# fit on the training set\n",
    "history_13_w2v = fit_model(model_13_w2v, callbacks_list('13_w2v'), batch_size=256)\n",
    "\n",
    "\n"
   ]
  },
  {
   "cell_type": "code",
   "execution_count": null,
   "metadata": {},
   "outputs": [],
   "source": [
    "# Load the best model\n",
    "best_model_13_w2v = load_model('model_13_w2v.h5')\n",
    "Loss, Accuracy = best_model_13_w2v.evaluate(x=X_val_sequences, y=y_val)\n",
    "print('An Inception Module with LSTM, CNN, Bidirectional LSTM (fine-tune pre-trained word2vec)')\n",
    "print('Accuracy: %f' % (Accuracy*100))\n",
    "\n",
    "\n"
   ]
  },
  {
   "cell_type": "code",
   "execution_count": null,
   "metadata": {},
   "outputs": [],
   "source": [
    "performance_plot (history_13_w2v)\n"
   ]
  }
 ],
 "metadata": {
  "kernelspec": {
   "display_name": "Python 3",
   "language": "python",
   "name": "python3"
  },
  "language_info": {
   "codemirror_mode": {
    "name": "ipython",
    "version": 3
   },
   "file_extension": ".py",
   "mimetype": "text/x-python",
   "name": "python",
   "nbconvert_exporter": "python",
   "pygments_lexer": "ipython3",
   "version": "3.7.3"
  }
 },
 "nbformat": 4,
 "nbformat_minor": 2
}
